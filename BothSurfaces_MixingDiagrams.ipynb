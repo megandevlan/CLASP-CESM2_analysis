{
 "cells": [
  {
   "cell_type": "code",
   "execution_count": 1,
   "metadata": {
    "ExecuteTime": {
     "end_time": "2021-11-15T17:30:56.277910Z",
     "start_time": "2021-11-15T17:30:56.273956Z"
    }
   },
   "outputs": [],
   "source": [
    "# Load libraries\n",
    "\n",
    "# # Plotting utils \n",
    "import matplotlib.pyplot as plt \n",
    "import matplotlib.colors as colors\n",
    "import matplotlib.ticker as ticker \n",
    "import matplotlib.patches as patches\n",
    "import matplotlib as matplotlib\n",
    "import matplotlib.dates as mdates\n",
    "from mpl_toolkits.axes_grid1 import make_axes_locatable\n",
    "\n",
    "# Analysis\n",
    "# import os\n",
    "import time\n",
    "import numpy as np \n",
    "import xarray as xr\n",
    "import datetime\n",
    "from   datetime import date, timedelta\n",
    "import pandas as pd \n",
    "import pickle\n",
    "import scipy.stats as stats\n",
    "\n",
    "# Import Ngl with pyn_env active \n",
    "# import Ngl\n",
    "\n",
    "## Need to use metPy conda env\n",
    "# import metpy.calc as mpc\n",
    "# from metpy.units import units\n",
    "\n",
    "import warnings\n",
    "warnings.filterwarnings('ignore')\n",
    "\n"
   ]
  },
  {
   "cell_type": "markdown",
   "metadata": {},
   "source": [
    "## Read in data"
   ]
  },
  {
   "cell_type": "code",
   "execution_count": 2,
   "metadata": {
    "ExecuteTime": {
     "end_time": "2021-11-15T17:31:17.454397Z",
     "start_time": "2021-11-15T17:30:58.495384Z"
    }
   },
   "outputs": [
    {
     "name": "stdout",
     "output_type": "stream",
     "text": [
      "Loaded all the real_sfc pickle files\n",
      "Loaded all the artificial_sfc pickle files\n",
      "Total elapsed time (sec):  24.14574384689331\n"
     ]
    }
   ],
   "source": [
    "# start_time = time.time()\n",
    "\n",
    "# saveDir = '/Users/mdfowler/Documents/Analysis/CLASP/SCAM_runs/FullyCoupledFromCTSM/FinalOption/ProcessedFiles/'\n",
    "\n",
    "# HMGcamDS_localReal        = pickle.load( open( saveDir+\"HMGcamDS_localReal.p\", \"rb\" ) )\n",
    "# HTGcamDS_localReal        = pickle.load( open( saveDir+\"HTGcamDS_localReal.p\", \"rb\" ) )\n",
    "# HTGcamDS_localReal10      = pickle.load( open( saveDir+\"HTGcamDS_localReal10.p\", \"rb\" ) )\n",
    "\n",
    "# HMGclmDS_localReal        = pickle.load( open( saveDir+\"HMGclmDS_localReal.p\", \"rb\" ) )\n",
    "# HTGclmDS_localReal        = pickle.load( open( saveDir+\"HTGclmDS_localReal.p\", \"rb\" ) )\n",
    "# HTGclmDS_localReal10      = pickle.load( open( saveDir+\"HTGclmDS_localReal10.p\", \"rb\" ) )\n",
    "\n",
    "# HMGclmDS_localRealPatch   = pickle.load( open( saveDir+\"HMGclmDS_localRealPatch.p\", \"rb\" ) )\n",
    "# HTGclmDS_localRealPatch   = pickle.load( open( saveDir+\"HTGclmDS_localRealPatch.p\", \"rb\" ) )\n",
    "# HTGclmDS_localRealPatch10 = pickle.load( open( saveDir+\"HTGclmDS_localRealPatch10.p\", \"rb\" ) )\n",
    "\n",
    "# print('Loaded all the real_sfc pickle files')\n",
    "\n",
    "# HMGcamDS_localArt        = pickle.load( open( saveDir+\"HMGcamDS_localArt.p\", \"rb\" ) )\n",
    "# HTGcamDS_localArt        = pickle.load( open( saveDir+\"HTGcamDS_localArt.p\", \"rb\" ) )\n",
    "# HTGcamDS_localArt5       = pickle.load( open( saveDir+\"HTGcamDS_localArt5.p\", \"rb\" ) )\n",
    "# HTGcamDS_localArt25      = pickle.load( open( saveDir+\"HTGcamDS_localArt25.p\", \"rb\" ) )\n",
    "\n",
    "# HMGclmDS_localArt        = pickle.load( open( saveDir+\"HMGclmDS_localArt.p\", \"rb\" ) )\n",
    "# HTGclmDS_localArt        = pickle.load( open( saveDir+\"HTGclmDS_localArt.p\", \"rb\" ) )\n",
    "# HTGclmDS_localArt5       = pickle.load( open( saveDir+\"HTGclmDS_localArt5.p\", \"rb\" ) )\n",
    "# HTGclmDS_localArt25      = pickle.load( open( saveDir+\"HTGclmDS_localArt25.p\", \"rb\" ) )\n",
    "\n",
    "# HMGclmDS_localArtPatch   = pickle.load( open( saveDir+\"HMGclmDS_localArtPatch.p\", \"rb\" ) )\n",
    "# HTGclmDS_localArtPatch   = pickle.load( open( saveDir+\"HTGclmDS_localArtPatch.p\", \"rb\" ) )\n",
    "\n",
    "# print('Loaded all the artificial_sfc pickle files')\n",
    "\n",
    "# print('Total elapsed time (sec): ', time.time()-start_time)\n"
   ]
  },
  {
   "cell_type": "code",
   "execution_count": 2,
   "metadata": {},
   "outputs": [
    {
     "name": "stdout",
     "output_type": "stream",
     "text": [
      "Loaded all the real_sfc pickle files\n",
      "Loaded all the artificial_sfc pickle files\n",
      "Total elapsed time (sec):  46.450713872909546\n"
     ]
    }
   ],
   "source": [
    "start_time = time.time()\n",
    "\n",
    "saveDir = '/Users/mdfowler/Documents/Analysis/CLASP/SCAM_runs/FullyCoupledFromCTSM/FinalOption/ProcessedFiles/'\n",
    "\n",
    "realSfc_allCases          = pickle.load( open( saveDir+\"realSfc_allCases_withInterp.p\", \"rb\" ) )\n",
    "\n",
    "HMGclmDS_localReal        = pickle.load( open( saveDir+\"HMGclmDS_localReal.p\", \"rb\" ) )\n",
    "HTGclmDS_localReal        = pickle.load( open( saveDir+\"HTGclmDS_localReal.p\", \"rb\" ) )\n",
    "HTGclmDS_localReal10      = pickle.load( open( saveDir+\"HTGclmDS_localReal10.p\", \"rb\" ) )\n",
    "\n",
    "print('Loaded all the real_sfc pickle files')\n",
    "\n",
    "artSfc_allCases        = pickle.load( open( saveDir+\"artSfc_allCases_withInterp.p\", \"rb\" ) )\n",
    "artSfcMult_allCases    = pickle.load( open( saveDir+\"artSfcMult_allCases_withInterp.p\", \"rb\" ) )\n",
    "\n",
    "HMGclmDS_localArt        = pickle.load( open( saveDir+\"HMGclmDS_localArt.p\", \"rb\" ) )\n",
    "HTGclmDS_localArt        = pickle.load( open( saveDir+\"HTGclmDS_localArt.p\", \"rb\" ) )\n",
    "HTGclmDS_localArt5       = pickle.load( open( saveDir+\"HTGclmDS_localArt5.p\", \"rb\" ) )\n",
    "HTGclmDS_localArt25      = pickle.load( open( saveDir+\"HTGclmDS_localArt25.p\", \"rb\" ) )\n",
    "\n",
    "print('Loaded all the artificial_sfc pickle files')\n",
    "\n",
    "print('Total elapsed time (sec): ', time.time()-start_time)\n"
   ]
  },
  {
   "cell_type": "code",
   "execution_count": 3,
   "metadata": {
    "ExecuteTime": {
     "end_time": "2021-11-15T17:31:34.168082Z",
     "start_time": "2021-11-15T17:31:17.457265Z"
    }
   },
   "outputs": [],
   "source": [
    "## Large-scale forcing data:\n",
    "nateForcingFileHTG = '/Users/mdfowler/Documents/Analysis/CLASP/NateForcing/clasp-htg.nc'\n",
    "nateDS_HTG = xr.open_dataset(nateForcingFileHTG, decode_times='True')\n",
    "\n",
    "nateForcingFileHMG = '/Users/mdfowler/Documents/Analysis/CLASP/NateForcing/clasp-hmg.nc'\n",
    "nateDS_HMG = xr.open_dataset(nateForcingFileHMG, decode_times='True')\n",
    "\n",
    "## Convert to local time too \n",
    "nateDS_local       = nateDS_HTG.copy(deep=True)\n",
    "\n",
    "# Confirmed that all the times are identical, so using the same local time arrays\n",
    "localTimes = nateDS_local['time'].values - np.timedelta64(5,'h')\n",
    "\n",
    "# Replace time dimension with local time\n",
    "nateDS_local = nateDS_local.assign_coords({\"time\": localTimes})\n",
    "\n",
    "# Add month_day index\n",
    "month_day_idx                      = pd.MultiIndex.from_arrays([nateDS_local['time.year'].values,\n",
    "                                                                nateDS_local['time.month'].values, \n",
    "                                                                nateDS_local['time.day'].values])\n",
    "nateDS_local.coords['year_month_day'] = ('time', month_day_idx)\n",
    "\n",
    "# Now sum over the day to get total amount of rainfall\n",
    "nateDS_localDailySum = nateDS_local.groupby('year_month_day').sum()\n"
   ]
  },
  {
   "cell_type": "code",
   "execution_count": null,
   "metadata": {},
   "outputs": [],
   "source": []
  },
  {
   "cell_type": "markdown",
   "metadata": {},
   "source": [
    "### Add in month-day index"
   ]
  },
  {
   "cell_type": "code",
   "execution_count": 4,
   "metadata": {
    "ExecuteTime": {
     "end_time": "2021-11-15T17:31:34.211795Z",
     "start_time": "2021-11-15T17:31:34.171114Z"
    }
   },
   "outputs": [],
   "source": [
    "# Add month_day index to arrays\n",
    "month_day_idx                      = pd.MultiIndex.from_arrays([HMGclmDS_localReal['time.year'].values,\n",
    "                                                                HMGclmDS_localReal['time.month'].values, \n",
    "                                                                HMGclmDS_localReal['time.day'].values])\n",
    "\n",
    "realSfc_allCases.coords['year_month_day']        = ('time', month_day_idx)\n",
    "\n",
    "HMGclmDS_localReal.coords['year_month_day']      = ('time', month_day_idx)\n",
    "HMGclmDS_localRealPatch.coords['year_month_day'] = ('time', month_day_idx)\n",
    "\n",
    "HTGclmDS_localReal.coords['year_month_day']      = ('time', month_day_idx)\n",
    "\n",
    "HTGclmDS_localReal10.coords['year_month_day']      = ('time', month_day_idx)\n",
    "\n",
    "\n",
    "artSfc_allCases.coords['year_month_day']      = ('time', month_day_idx)\n",
    "artSfcMult_allCases.coords['year_month_day']  = ('time', month_day_idx)\n",
    "\n",
    "HMGclmDS_localArt.coords['year_month_day']      = ('time', month_day_idx)\n",
    "\n",
    "HTGclmDS_localArt.coords['year_month_day']      = ('time', month_day_idx)\n",
    "\n",
    "HTGclmDS_localArt5.coords['year_month_day']     = ('time', month_day_idx)\n",
    "\n",
    "HTGclmDS_localArt25.coords['year_month_day']    = ('time', month_day_idx)\n"
   ]
  },
  {
   "cell_type": "code",
   "execution_count": null,
   "metadata": {},
   "outputs": [],
   "source": []
  },
  {
   "cell_type": "markdown",
   "metadata": {},
   "source": [
    "## Get days based on a classification method"
   ]
  },
  {
   "cell_type": "code",
   "execution_count": 8,
   "metadata": {
    "ExecuteTime": {
     "end_time": "2021-11-15T17:32:30.755274Z",
     "start_time": "2021-11-15T17:32:30.737910Z"
    }
   },
   "outputs": [],
   "source": [
    "'''\n",
    "Find all the times in the full array (20m dt) that line up with the day classifications above. \n",
    "'''\n",
    "def getTimes_basedOnDayClass(fullDS, dayClassDS):\n",
    "    iTimes = []\n",
    "    \n",
    "    for iTime in range(len(dayClassDS.year_month_day.values)):\n",
    "        iKeepTimes = np.where((fullDS['time.year'] ==dayClassDS.year_month_day_level_0.values[iTime]) &\n",
    "                              (fullDS['time.month']==dayClassDS.year_month_day_level_1.values[iTime]) & \n",
    "                              (fullDS['time.day']  ==dayClassDS.year_month_day_level_2.values[iTime]))[0]    \n",
    "        iTimes = np.append(iTimes, iKeepTimes).astype(int)\n",
    "    \n",
    "    # Now select only those times in the local time array\n",
    "    DS_dayClass = fullDS.isel(time=iTimes)\n",
    "    \n",
    "    return(DS_dayClass)\n",
    "\n"
   ]
  },
  {
   "cell_type": "code",
   "execution_count": 9,
   "metadata": {
    "ExecuteTime": {
     "end_time": "2021-11-15T17:32:30.828288Z",
     "start_time": "2021-11-15T17:32:30.765416Z"
    }
   },
   "outputs": [],
   "source": [
    "## Load wet/dry day arrays from pickle file (saved 11/3/2021)\n",
    "saveDir = '/Users/mdfowler/Documents/Analysis/CLASP/SCAM_runs/FullyCoupledFromCTSM/FinalOption/ProcessedFiles/'\n",
    "\n",
    "artSfc_allCasesDailySum_dDry        = pickle.load( open( saveDir+\"artSfc_allCasesDailySum_dDry.p\", \"rb\" ) )\n",
    "artSfc_allCasesDailySum_wWet        = pickle.load( open( saveDir+\"artSfc_allCasesDailySum_wWet.p\", \"rb\" ) )\n",
    "\n"
   ]
  },
  {
   "cell_type": "code",
   "execution_count": 10,
   "metadata": {
    "ExecuteTime": {
     "end_time": "2021-11-15T17:33:24.461985Z",
     "start_time": "2021-11-15T17:32:30.830125Z"
    }
   },
   "outputs": [],
   "source": [
    "# Next, get all the times in the full array that line up with each of those classifications above \n",
    "\n",
    "dDryDays_realSfc     = getTimes_basedOnDayClass(realSfc_allCases,     artSfc_allCasesDailySum_dDry)\n",
    "dDryDays_artSfc      = getTimes_basedOnDayClass(artSfc_allCases,      artSfc_allCasesDailySum_dDry)\n",
    "dDryDays_artSfcMult  = getTimes_basedOnDayClass(artSfcMult_allCases,  artSfc_allCasesDailySum_dDry)\n",
    "\n",
    "wWetDays_realSfc     = getTimes_basedOnDayClass(realSfc_allCases,     artSfc_allCasesDailySum_wWet)\n",
    "wWetDays_artSfc      = getTimes_basedOnDayClass(artSfc_allCases,      artSfc_allCasesDailySum_wWet)\n",
    "wWetDays_artSfcMult  = getTimes_basedOnDayClass(artSfcMult_allCases,  artSfc_allCasesDailySum_wWet)\n"
   ]
  },
  {
   "cell_type": "code",
   "execution_count": 11,
   "metadata": {
    "ExecuteTime": {
     "end_time": "2021-11-15T17:33:26.214585Z",
     "start_time": "2021-11-15T17:33:24.471079Z"
    }
   },
   "outputs": [],
   "source": [
    "## Get the same dDry and wWet dates in the forcing files \n",
    "dDryDays_obs = getTimes_basedOnDayClass(nateDS_local, artSfc_allCasesDailySum_dDry)\n",
    "wWetDays_obs = getTimes_basedOnDayClass(nateDS_local, artSfc_allCasesDailySum_wWet)\n"
   ]
  },
  {
   "cell_type": "code",
   "execution_count": 12,
   "metadata": {
    "ExecuteTime": {
     "end_time": "2021-11-15T17:33:37.006269Z",
     "start_time": "2021-11-15T17:33:26.216377Z"
    }
   },
   "outputs": [],
   "source": [
    "# Get all those times in the CLM land files as well \n",
    "dDryDaysCLM_HTGreal = getTimes_basedOnDayClass(HTGclmDS_localReal, artSfc_allCasesDailySum_dDry)\n",
    "wWetDaysCLM_HTGreal = getTimes_basedOnDayClass(HTGclmDS_localReal, artSfc_allCasesDailySum_wWet)\n",
    "\n",
    "dDryDaysCLM_HMGreal = getTimes_basedOnDayClass(HMGclmDS_localReal, artSfc_allCasesDailySum_dDry)\n",
    "wWetDaysCLM_HMGreal = getTimes_basedOnDayClass(HMGclmDS_localReal, artSfc_allCasesDailySum_wWet)\n",
    "\n",
    "\n",
    "dDryDaysCLM_HTGart  = getTimes_basedOnDayClass(HTGclmDS_localArt, artSfc_allCasesDailySum_dDry)\n",
    "wWetDaysCLM_HTGart  = getTimes_basedOnDayClass(HTGclmDS_localArt, artSfc_allCasesDailySum_wWet)\n",
    "\n",
    "dDryDaysCLM_HMGart  = getTimes_basedOnDayClass(HMGclmDS_localArt, artSfc_allCasesDailySum_dDry)\n",
    "wWetDaysCLM_HMGart  = getTimes_basedOnDayClass(HMGclmDS_localArt, artSfc_allCasesDailySum_wWet)\n"
   ]
  },
  {
   "cell_type": "markdown",
   "metadata": {},
   "source": [
    "**Now get hourly means/std as well**"
   ]
  },
  {
   "cell_type": "code",
   "execution_count": 13,
   "metadata": {
    "ExecuteTime": {
     "end_time": "2021-11-15T17:34:52.648563Z",
     "start_time": "2021-11-15T17:33:37.009683Z"
    }
   },
   "outputs": [
    {
     "name": "stdout",
     "output_type": "stream",
     "text": [
      "Computed hourly means for all surfaces + cases\n"
     ]
    }
   ],
   "source": [
    "hourlyMean_dDry_realSfc    = dDryDays_realSfc.groupby(\"time.hour\").mean(dim=\"time\")\n",
    "hourlyMean_dDry_artSfc     = dDryDays_artSfc.groupby(\"time.hour\").mean(dim=\"time\")\n",
    "hourlyMean_dDry_artSfcMult = dDryDays_artSfcMult.groupby(\"time.hour\").mean(dim=\"time\")\n",
    "\n",
    "hourlyMean_wWet_realSfc    = wWetDays_realSfc.groupby(\"time.hour\").mean(dim=\"time\")\n",
    "hourlyMean_wWet_artSfc     = wWetDays_artSfc.groupby(\"time.hour\").mean(dim=\"time\")\n",
    "hourlyMean_wWet_artSfcMult = wWetDays_artSfcMult.groupby(\"time.hour\").mean(dim=\"time\")\n",
    "\n",
    "\n",
    "print('Computed hourly means for all surfaces + cases')\n",
    "\n"
   ]
  },
  {
   "cell_type": "code",
   "execution_count": 15,
   "metadata": {
    "ExecuteTime": {
     "end_time": "2021-11-15T17:35:06.824059Z",
     "start_time": "2021-11-15T17:34:52.651792Z"
    }
   },
   "outputs": [],
   "source": [
    "# # And CLMvariables for mean\n",
    "# hourlyMeanCLM_dDry_HMGreal = dDryDaysCLM_HMGreal.groupby(\"time.hour\").mean()\n",
    "# hourlyMeanCLM_dDry_HTGreal = dDryDaysCLM_HTGreal.groupby(\"time.hour\").mean()\n",
    "\n",
    "# hourlyMeanCLM_wWet_HMGreal = wWetDaysCLM_HMGreal.groupby(\"time.hour\").mean()\n",
    "# hourlyMeanCLM_wWet_HTGreal = wWetDaysCLM_HTGreal.groupby(\"time.hour\").mean()\n",
    "\n",
    "\n",
    "# hourlyMeanCLM_dDry_HMGart = dDryDaysCLM_HMGart.groupby(\"time.hour\").mean()\n",
    "# hourlyMeanCLM_dDry_HTGart = dDryDaysCLM_HTGart.groupby(\"time.hour\").mean()\n",
    "\n",
    "# hourlyMeanCLM_wWet_HMGart = wWetDaysCLM_HMGart.groupby(\"time.hour\").mean()\n",
    "# hourlyMeanCLM_wWet_HTGart = wWetDaysCLM_HTGart.groupby(\"time.hour\").mean()"
   ]
  },
  {
   "cell_type": "code",
   "execution_count": 15,
   "metadata": {
    "ExecuteTime": {
     "end_time": "2021-11-15T17:35:07.066059Z",
     "start_time": "2021-11-15T17:35:06.826264Z"
    }
   },
   "outputs": [],
   "source": [
    "# Get number of obs going into those hourly means (for error bars)\n",
    "nTimes_dDry   = np.full([24], np.nan)\n",
    "nTimes_wWet   = np.full([24], np.nan)\n",
    "\n",
    "for iHr in range(24): \n",
    "    nTimes_dDry[iHr]  = len(np.where(dDryDays_realSfc[\"time.hour\"]==iHr)[0])\n",
    "    nTimes_wWet[iHr]  = len(np.where(wWetDays_realSfc[\"time.hour\"]==iHr)[0])\n",
    "\n",
    "hourlyMean_dDry_realSfc['SampleCount']       = (('hour'), nTimes_dDry)\n",
    "hourlyMean_dDry_artSfc['SampleCount']        = (('hour'), nTimes_dDry)\n",
    "hourlyMean_dDry_artSfcMult['SampleCount']    = (('hour'), nTimes_dDry)\n",
    "\n",
    "hourlyMean_wWet_realSfc['SampleCount']       = (('hour'), nTimes_wWet)\n",
    "hourlyMean_wWet_artSfc['SampleCount']        = (('hour'), nTimes_wWet)\n",
    "hourlyMean_wWet_artSfcMult['SampleCount']    = (('hour'), nTimes_wWet)\n"
   ]
  },
  {
   "cell_type": "code",
   "execution_count": 17,
   "metadata": {
    "ExecuteTime": {
     "end_time": "2021-11-15T17:35:08.627731Z",
     "start_time": "2021-11-15T17:35:07.068305Z"
    }
   },
   "outputs": [],
   "source": [
    "hourlyMean_dDry_Obs  = dDryDays_obs.groupby(\"time.hour\").mean()\n",
    "hourlyMean_wWet_Obs  = wWetDays_obs.groupby(\"time.hour\").mean()\n",
    "\n",
    "# Get number of obs going into those hourly means (for error bars)\n",
    "nTimes_dDryObs   = np.full([24], np.nan)\n",
    "nTimes_wWetObs   = np.full([24], np.nan)\n",
    "\n",
    "for iHr in range(24): \n",
    "    nTimes_dDryObs[iHr]  = len(np.where(dDryDays_obs[\"time.hour\"]==iHr)[0])\n",
    "    nTimes_wWetObs[iHr]  = len(np.where(wWetDays_obs[\"time.hour\"]==iHr)[0])\n",
    "    \n",
    "hourlyMean_dDry_Obs['SampleCount'] = (('hour'), nTimes_dDryObs)\n",
    "hourlyMean_wWet_Obs['SampleCount'] = (('hour'), nTimes_wWetObs)\n",
    "\n"
   ]
  },
  {
   "cell_type": "code",
   "execution_count": null,
   "metadata": {},
   "outputs": [],
   "source": []
  },
  {
   "cell_type": "markdown",
   "metadata": {},
   "source": [
    "## Plot mixing diagrams\n",
    "Drawing heavily from Ahmed's NCL CoMeT scripts (saved here, locally: <br> /Users/mdfowler/Documents/Analysis/Coupling_initial/coupling-metrics/mixing_diagram/ncl_portable) \n",
    "<br>\n",
    "Note, this script does seem to use regular 2m T, not 2m theta (operating on assumption that they are approximately equal that close to the surface)"
   ]
  },
  {
   "cell_type": "code",
   "execution_count": 18,
   "metadata": {
    "ExecuteTime": {
     "end_time": "2021-11-15T18:12:50.960833Z",
     "start_time": "2021-11-15T18:12:50.958214Z"
    }
   },
   "outputs": [],
   "source": [
    "## Set some constants \n",
    "Lv = 2.5e6      # Latent heat of vaporization\n",
    "Cp = 1005.7     # Specific heat capacity \n",
    "g  = 9.8 \n",
    "Rd = 287.04\n",
    "ep = 0.622\n",
    "R_cp = Rd/Cp \n",
    "\n",
    "# Time increment of time dimension (seconds) \n",
    "# dt = 60.0*60.0    # Using hourly values  \n"
   ]
  },
  {
   "cell_type": "code",
   "execution_count": 19,
   "metadata": {
    "ExecuteTime": {
     "end_time": "2021-11-15T18:55:26.531606Z",
     "start_time": "2021-11-15T18:55:26.517963Z"
    }
   },
   "outputs": [],
   "source": [
    "def air_density(p, t, q):\n",
    "    '''Calculate the air density using the ideal gas law\n",
    "    with the specific humidity of gas\n",
    "\n",
    "    Parameters\n",
    "    ----------\n",
    "    p : float\n",
    "        pressure [Pascals]\n",
    "    t : float\n",
    "        dry bulb temperature [Kelvin]\n",
    "    q : float\n",
    "        specific humidity [kg/kg]\n",
    "\n",
    "    Return\n",
    "    ------\n",
    "    float\n",
    "        air density [kg/m^3]\n",
    "    '''\n",
    "    return p / (Rd * t * ((1. + (q/ep)) / (1. + q)))\n"
   ]
  },
  {
   "cell_type": "markdown",
   "metadata": {},
   "source": [
    "**Dry Days**"
   ]
  },
  {
   "cell_type": "code",
   "execution_count": 82,
   "metadata": {
    "ExecuteTime": {
     "end_time": "2021-11-15T20:07:19.519263Z",
     "start_time": "2021-11-15T20:07:19.322941Z"
    },
    "scrolled": true
   },
   "outputs": [],
   "source": [
    "# Variable name for PBL variable\n",
    "PBLname = 'PBLH'\n",
    "\n",
    "# Select just 7a-7p: \n",
    "iHours              = np.where((hourlyMean_dDry_realSfc.hour.values>=7) & (hourlyMean_dDry_realSfc.hour.values<=19))[0]\n",
    "\n",
    "realSfc_daytime     = hourlyMean_dDry_realSfc.isel(hour=iHours)\n",
    "artSfc_daytime      = hourlyMean_dDry_artSfc.isel(hour=iHours)\n",
    "artSfcMult_daytime  = hourlyMean_dDry_artSfcMult.isel(hour=iHours)\n",
    "\n",
    "\n",
    "rho_real     = air_density(realSfc_daytime.PS.values,    realSfc_daytime.TREFHT.values,    realSfc_daytime.QREFHT.values)\n",
    "rho_art      = air_density(artSfc_daytime.PS.values,     artSfc_daytime.TREFHT.values,     artSfc_daytime.QREFHT.values)\n",
    "rho_artMult  = air_density(artSfcMult_daytime.PS.values, artSfcMult_daytime.TREFHT.values, artSfcMult_daytime.QREFHT.values)\n",
    "\n",
    "realSfc_daytime['rho'] = (('hour','case','lat','lon'), rho_real)\n",
    "artSfc_daytime['rho'] = (('hour','case','lat','lon'), rho_art)\n",
    "artSfcMult_daytime['rho'] = (('hour','case','lat','lon'), rho_artMult)\n",
    "\n",
    "# Get mean over daytime hours\n",
    "realSfc_daytimeMean    = realSfc_daytime.mean(dim='hour')\n",
    "artSfc_daytimeMean     = artSfc_daytime.mean(dim='hour')\n",
    "artMultSfc_daytimeMean = artSfcMult_daytime.mean(dim='hour')\n",
    "\n",
    "## Get points for Cp_delTheta and L_delQ \n",
    "real_Cp_delTheta = (np.squeeze(realSfc_daytimeMean.SHFLX.values)*(13*60*60))/(np.squeeze(realSfc_daytimeMean.rho.values )* np.squeeze(realSfc_daytimeMean[PBLname].values))\n",
    "bowen_real       = np.squeeze(realSfc_daytimeMean.SHFLX.values)/np.squeeze(realSfc_daytimeMean.LHFLX.values)\n",
    "real_L_delQ      = real_Cp_delTheta/bowen_real\n",
    "\n",
    "art_Cp_delTheta = (np.squeeze(artSfc_daytimeMean.SHFLX.values)*(13*60*60))/(np.squeeze(artSfc_daytimeMean.rho.values )* np.squeeze(artSfc_daytimeMean[PBLname].values))\n",
    "bowen_art       = np.squeeze(artSfc_daytimeMean.SHFLX.values)/np.squeeze(artSfc_daytimeMean.LHFLX.values)\n",
    "art_L_delQ      = art_Cp_delTheta/bowen_art\n",
    "\n",
    "artMult_Cp_delTheta = (np.squeeze(artMultSfc_daytimeMean.SHFLX.values)*(13*60*60))/(np.squeeze(artMultSfc_daytimeMean.rho.values )* np.squeeze(artMultSfc_daytimeMean[PBLname].values))\n",
    "bowen_artMult       = np.squeeze(artMultSfc_daytimeMean.SHFLX.values)/np.squeeze(artMultSfc_daytimeMean.LHFLX.values)\n",
    "artMult_L_delQ      = artMult_Cp_delTheta/bowen_artMult\n",
    "\n"
   ]
  },
  {
   "cell_type": "code",
   "execution_count": 68,
   "metadata": {},
   "outputs": [
    {
     "name": "stdout",
     "output_type": "stream",
     "text": [
      "Real Surface Bowen_entrainment: \n",
      "HMG    :   0.91479594\n",
      "HTG    :   0.88291556\n",
      "HTG*10    :   0.8774247\n",
      "\n",
      "Artificial Surface Bowen_entrainment: \n",
      "HMG    :   1.0676924\n",
      "HTG    :   1.118415\n",
      "HTG*0.5    :   1.0977129\n",
      "HTG*0.25    :   1.1129409\n"
     ]
    }
   ],
   "source": [
    "caseNames = np.asarray(['HMG','HTG','HTG*10'])\n",
    "print('Real Surface Bowen_entrainment: ')\n",
    "for iCase in range(len(caseNames)):\n",
    "    print(caseNames[iCase], '   :  ', bowen_real[iCase])\n",
    "    \n",
    "print()\n",
    "\n",
    "print('Artificial Surface Bowen_entrainment: ')\n",
    "caseNames = np.asarray(['HMG', 'HTG'])\n",
    "for iCase in range(len(caseNames)):\n",
    "    print(caseNames[iCase], '   :  ', bowen_art[iCase])\n",
    "    \n",
    "caseNames = np.asarray(['HTG*0.5', 'HTG*0.25'])\n",
    "for iCase in range(len(caseNames)):\n",
    "    print(caseNames[iCase], '   :  ', bowen_artMult[iCase])    \n",
    "    \n",
    "    "
   ]
  },
  {
   "cell_type": "code",
   "execution_count": 70,
   "metadata": {},
   "outputs": [
    {
     "name": "stdout",
     "output_type": "stream",
     "text": [
      "Real Surface rho: \n",
      "HMG    :   [[1.0882862]]\n",
      "HTG    :   [[1.0914536]]\n",
      "HTG*10    :   [[1.0899646]]\n",
      "\n",
      "Artificial Surface rho: \n",
      "HMG    :   [[1.0822495]]\n",
      "HTG    :   [[1.0817628]]\n",
      "HTG*0.5    :   [[1.0826615]]\n",
      "HTG*0.25    :   [[1.0815263]]\n"
     ]
    }
   ],
   "source": [
    "caseNames = np.asarray(['HMG','HTG','HTG*10'])\n",
    "print('Real Surface rho: ')\n",
    "for iCase in range(len(caseNames)):\n",
    "    print(caseNames[iCase], '   :  ', realSfc_daytimeMean.rho.values[iCase])\n",
    "    \n",
    "print()\n",
    "\n",
    "print('Artificial Surface rho: ')\n",
    "caseNames = np.asarray(['HMG', 'HTG'])\n",
    "for iCase in range(len(caseNames)):\n",
    "    print(caseNames[iCase], '   :  ', artSfc_daytimeMean.rho.values[iCase])\n",
    "    \n",
    "caseNames = np.asarray(['HTG*0.5', 'HTG*0.25'])\n",
    "for iCase in range(len(caseNames)):\n",
    "    print(caseNames[iCase], '   :  ', artMultSfc_daytimeMean.rho.values[iCase])    \n",
    "    \n",
    "    "
   ]
  },
  {
   "cell_type": "code",
   "execution_count": 71,
   "metadata": {},
   "outputs": [
    {
     "name": "stdout",
     "output_type": "stream",
     "text": [
      "Real Surface PBLH: \n",
      "HMG    :   [[1558.5715]]\n",
      "HTG    :   [[1447.5966]]\n",
      "HTG*10    :   [[1401.4226]]\n",
      "\n",
      "Artificial Surface PBLH: \n",
      "HMG    :   [[1801.4473]]\n",
      "HTG    :   [[1625.468]]\n",
      "HTG*0.5    :   [[1723.5823]]\n",
      "HTG*0.25    :   [[1753.9895]]\n"
     ]
    }
   ],
   "source": [
    "caseNames = np.asarray(['HMG','HTG','HTG*10'])\n",
    "print('Real Surface %s: ' % PBLname)\n",
    "for iCase in range(len(caseNames)):\n",
    "    print(caseNames[iCase], '   :  ', realSfc_daytimeMean[PBLname].values[iCase])\n",
    "    \n",
    "print()\n",
    "\n",
    "print('Artificial Surface %s: ' % PBLname)\n",
    "caseNames = np.asarray(['HMG', 'HTG'])\n",
    "for iCase in range(len(caseNames)):\n",
    "    print(caseNames[iCase], '   :  ', artSfc_daytimeMean[PBLname].values[iCase])\n",
    "    \n",
    "caseNames = np.asarray(['HTG*0.5', 'HTG*0.25'])\n",
    "for iCase in range(len(caseNames)):\n",
    "    print(caseNames[iCase], '   :  ', artMultSfc_daytimeMean[PBLname].values[iCase])    \n",
    "    \n",
    "    "
   ]
  },
  {
   "cell_type": "code",
   "execution_count": null,
   "metadata": {},
   "outputs": [],
   "source": []
  },
  {
   "cell_type": "code",
   "execution_count": 83,
   "metadata": {
    "ExecuteTime": {
     "end_time": "2021-11-15T20:07:19.645830Z",
     "start_time": "2021-11-15T20:07:19.636291Z"
    }
   },
   "outputs": [],
   "source": [
    "real_LvQ = hourlyMean_dDry_realSfc.QREFHT.values[7:20,:,0,0]*Lv\n",
    "real_CpT = hourlyMean_dDry_realSfc.TREFHT.values[7:20,:,0,0]*Cp\n",
    "\n",
    "art_LvQ  = hourlyMean_dDry_artSfc.QREFHT.values[7:20,:,0,0]*Lv\n",
    "art_CpT  = hourlyMean_dDry_artSfc.TREFHT.values[7:20,:,0,0]*Cp\n",
    "\n",
    "artMult_LvQ  = hourlyMean_dDry_artSfcMult.QREFHT.values[7:20,:,0,0]*Lv\n",
    "artMult_CpT  = hourlyMean_dDry_artSfcMult.TREFHT.values[7:20,:,0,0]*Cp\n"
   ]
  },
  {
   "cell_type": "code",
   "execution_count": 84,
   "metadata": {
    "ExecuteTime": {
     "end_time": "2021-11-15T20:07:20.283750Z",
     "start_time": "2021-11-15T20:07:19.981146Z"
    },
    "scrolled": false
   },
   "outputs": [
    {
     "data": {
      "text/plain": [
       "<matplotlib.legend.Legend at 0x7fb39f628f10>"
      ]
     },
     "execution_count": 84,
     "metadata": {},
     "output_type": "execute_result"
    },
    {
     "data": {
      "image/png": "[encoded data removed]",
      "text/plain": [
       "<Figure size 1080x432 with 2 Axes>"
      ]
     },
     "metadata": {
      "needs_background": "light"
     },
     "output_type": "display_data"
    }
   ],
   "source": [
    "# Make the plots! \n",
    "fig,axs = plt.subplots(1,2, figsize=(15,6))\n",
    "axs     = axs.ravel()\n",
    "\n",
    "\n",
    "## Plot real surface\n",
    "# - - - - - - - - - - - \n",
    "\n",
    "caseNames = np.asarray(['HMG','HTG','HTG*10'])\n",
    "colorList = np.asarray(['orange','violet','purple'])\n",
    "offset_7aText = np.asarray([ [0.97, 0.965, 1.01], \n",
    "                             [1.0,  1.0,   0.9985] ])\n",
    "\n",
    "\n",
    "for iCase in range(3):\n",
    "    axs[0].plot(real_LvQ[:,iCase], real_CpT[:,iCase],'o-',\n",
    "                markersize=3, color=colorList[iCase], label=caseNames[iCase])\n",
    "    \n",
    "    # Add vectors\n",
    "    axs[0].plot([real_LvQ[0,iCase], real_LvQ[0,iCase]+real_L_delQ[iCase]], \n",
    "                [real_CpT[0,iCase], real_CpT[0,iCase]+real_Cp_delTheta[iCase]],\n",
    "                '--', color=colorList[iCase], alpha=0.8)\n",
    "    axs[0].plot([real_LvQ[0,iCase]+real_L_delQ[iCase], real_LvQ[-1,iCase]], \n",
    "                [real_CpT[0,iCase]+real_Cp_delTheta[iCase], real_CpT[-1,iCase]],\n",
    "                '--', color=colorList[iCase], alpha=0.8)\n",
    "    # Add 7 am labels\n",
    "    axs[0].text(real_LvQ[0,iCase]*offset_7aText[0,iCase], \n",
    "                real_CpT[0,iCase]*offset_7aText[1,iCase], '7 AM', color=colorList[iCase], fontsize=12)\n",
    "    \n",
    "# ## Plot observations T/Q:\n",
    "# # - - - - - - - - - - - \n",
    "axs[0].plot( hourlyMean_dDry_Obs.q_srf.values[7:20]*Lv, \n",
    "            (hourlyMean_dDry_Obs.T_srf.values[7:20]+273.15)*Cp,'o-',\n",
    "                markersize=3, color='k', label='Obs')\n",
    "\n",
    "\n",
    "## Plot artificial surface\n",
    "# - - - - - - - - - - - \n",
    "caseNames = np.asarray(['HMG','HTG'])\n",
    "colorList = np.asarray(['red','blue'])\n",
    "offset_7aText = np.asarray([ [0.97, 1.012 ], \n",
    "                             [1.0,  0.999   ] ])\n",
    "\n",
    "for iCase in range(2): \n",
    "    axs[1].plot(art_LvQ[:,iCase], art_CpT[:,iCase],'o-',\n",
    "                markersize=3, color=colorList[iCase], label=caseNames[iCase])\n",
    "    \n",
    "    # Add vectors\n",
    "    axs[1].plot([art_LvQ[0,iCase], art_LvQ[0,iCase]+art_L_delQ[iCase]], \n",
    "                [art_CpT[0,iCase], art_CpT[0,iCase]+art_Cp_delTheta[iCase]],\n",
    "                '--', color=colorList[iCase], alpha=0.8)\n",
    "    axs[1].plot([art_LvQ[0,iCase]+art_L_delQ[iCase], art_LvQ[-1,iCase]], \n",
    "                [art_CpT[0,iCase]+art_Cp_delTheta[iCase], art_CpT[-1,iCase]],\n",
    "                '--', color=colorList[iCase], alpha=0.8)\n",
    "    # Add 7 am labels\n",
    "    axs[1].text(art_LvQ[0,iCase]*offset_7aText[0,iCase], \n",
    "                art_CpT[0,iCase]*offset_7aText[1,iCase], '7 AM', color=colorList[iCase], fontsize=12)\n",
    "    \n",
    "# Add multipliers\n",
    "caseNames = np.asarray(['HTG*0.5','HTG*.25'])\n",
    "colorList = np.asarray(['dodgerblue','skyblue'])\n",
    "offset_7aText = np.asarray([ [1.005,  0.979 ], \n",
    "                             [0.999,  0.9995   ] ])\n",
    "\n",
    "for iCase in range(2): \n",
    "    axs[1].plot(artMult_LvQ[:,iCase], artMult_CpT[:,iCase],'o-',\n",
    "                markersize=3, color=colorList[iCase], label=caseNames[iCase])\n",
    "    \n",
    "    # Add vectors\n",
    "    axs[1].plot([artMult_LvQ[0,iCase], artMult_LvQ[0,iCase]+artMult_L_delQ[iCase]], \n",
    "                [artMult_CpT[0,iCase], artMult_CpT[0,iCase]+artMult_Cp_delTheta[iCase]],\n",
    "                '--', color=colorList[iCase], alpha=0.8)\n",
    "    axs[1].plot([artMult_LvQ[0,iCase]+artMult_L_delQ[iCase], artMult_LvQ[-1,iCase]], \n",
    "                [artMult_CpT[0,iCase]+artMult_Cp_delTheta[iCase], artMult_CpT[-1,iCase]],\n",
    "                '--', color=colorList[iCase], alpha=0.8)\n",
    "    # Add 7 am labels\n",
    "    axs[1].text(artMult_LvQ[0,iCase]*offset_7aText[0,iCase], \n",
    "                artMult_CpT[0,iCase]*offset_7aText[1,iCase], '7 AM', color=colorList[iCase], fontsize=12)\n",
    "    \n",
    "\n",
    "\n",
    "\n",
    "\n",
    "## Add titles/labels \n",
    "# - - - - - - - - - - - \n",
    "axs[0].set_ylabel('2m Temperature (T * Cp)', fontsize=12)\n",
    "axs[0].set_xlabel('2m Humidity (q*Lv)',fontsize=12)\n",
    "axs[1].set_xlabel('2m Humidity (q*Lv)',fontsize=12)\n",
    "\n",
    "\n",
    "axs[0].set_title('Dry days (Real Sfc)')\n",
    "axs[1].set_title('Dry days (Artificial Sfc)')\n",
    "\n",
    "axs[0].legend()\n",
    "axs[1].legend()\n"
   ]
  },
  {
   "cell_type": "code",
   "execution_count": 89,
   "metadata": {},
   "outputs": [
    {
     "data": {
      "text/plain": [
       "'C'"
      ]
     },
     "execution_count": 89,
     "metadata": {},
     "output_type": "execute_result"
    }
   ],
   "source": [
    "nateDS_local.T_srf.units"
   ]
  },
  {
   "cell_type": "code",
   "execution_count": null,
   "metadata": {},
   "outputs": [],
   "source": []
  },
  {
   "cell_type": "code",
   "execution_count": null,
   "metadata": {},
   "outputs": [],
   "source": []
  },
  {
   "cell_type": "code",
   "execution_count": 66,
   "metadata": {},
   "outputs": [
    {
     "name": "stdout",
     "output_type": "stream",
     "text": [
      "Real Surface Bowen_entrainment: \n",
      "HMG    :   -1.0120921\n",
      "HTG    :   -1.0338113\n",
      "HTG*10    :   -1.3367058\n",
      "\n",
      "Real Surface V_sfc: \n",
      "HMG    :   5323.172741221816\n",
      "HTG    :   5623.3350389470115\n",
      "HTG*10    :   5902.861895265939\n"
     ]
    }
   ],
   "source": [
    "# The slope of the top vector is exactly equal to the bowen ratio of entrainment. \n",
    "#   Slope = rise/run \n",
    "\n",
    "caseNames = np.asarray(['HMG','HTG','HTG*10'])\n",
    "bowen_entrainment_real = ( real_CpT[-1,:] - (real_CpT[0,:]+real_Cp_delTheta[:]) ) / ( real_LvQ[-1,:] - (real_LvQ[0,:]+real_L_delQ[:][:]) ) \n",
    "\n",
    "print('Real Surface Bowen_entrainment: ')\n",
    "for iCase in range(len(caseNames)):\n",
    "    print(caseNames[iCase], '   :  ', bowen_entrainment_real[iCase])\n",
    "    \n",
    "print('\\nReal Surface V_sfc: ')\n",
    "for iCase in range(len(caseNames)):\n",
    "    print(caseNames[iCase], '   :  ', np.sqrt(real_Cp_delTheta[iCase]**2 + real_L_delQ[iCase]**2))\n",
    "    "
   ]
  },
  {
   "cell_type": "code",
   "execution_count": 67,
   "metadata": {},
   "outputs": [
    {
     "name": "stdout",
     "output_type": "stream",
     "text": [
      "Artificial Surface Bowen_entrainment: \n",
      "HMG    :   -0.4602655\n",
      "HTG    :   -0.5801624\n",
      "HTG*0.5    :   -0.52584547\n",
      "HTG*0.25    :   -0.4909914\n",
      "\n",
      "Artificial Surface V_sfc: \n",
      "HMG    :   4345.196311005456\n",
      "HTG    :   4813.678918651605\n",
      "HTG*0.5    :   4562.081851600725\n",
      "HTG*0.25    :   4508.616327336506\n"
     ]
    }
   ],
   "source": [
    "# The slope of the top vector is exactly equal to the bowen ratio of entrainment. \n",
    "#   Slope = rise/run \n",
    "\n",
    "caseNames = np.asarray(['HMG','HTG','HTG*0.5','HTG*0.25'])\n",
    "\n",
    "bowen_entrainment_art     = ( art_CpT[-1,:]     - (art_CpT[0,:]+art_Cp_delTheta[:]) )         / ( art_LvQ[-1,:]  - (art_LvQ[0,:]+art_L_delQ[:])) \n",
    "bowen_entrainment_artMult = ( artMult_CpT[-1,:] - (artMult_CpT[0,:]+artMult_Cp_delTheta[:]) ) / ( artMult_LvQ[-1,:] - (artMult_LvQ[0,:]+artMult_L_delQ[:]) ) \n",
    "\n",
    "bowen_entrainmentArtAll = np.append(bowen_entrainment_art, bowen_entrainment_artMult)\n",
    "Cp_delTheta_artAll      = np.append(art_Cp_delTheta, artMult_Cp_delTheta)\n",
    "L_delQ_artAll           = np.append(art_L_delQ, artMult_L_delQ)\n",
    "\n",
    "print('Artificial Surface Bowen_entrainment: ')\n",
    "for iCase in range(len(caseNames)):\n",
    "    print(caseNames[iCase], '   :  ', bowen_entrainmentArtAll[iCase])\n",
    "    \n",
    "print('\\nArtificial Surface V_sfc: ')\n",
    "for iCase in range(len(caseNames)):\n",
    "    print(caseNames[iCase], '   :  ', np.sqrt(Cp_delTheta_artAll[iCase]**2 + L_delQ_artAll[iCase]**2))\n",
    "    \n",
    "    "
   ]
  },
  {
   "cell_type": "code",
   "execution_count": null,
   "metadata": {},
   "outputs": [],
   "source": []
  },
  {
   "cell_type": "code",
   "execution_count": null,
   "metadata": {},
   "outputs": [],
   "source": []
  },
  {
   "cell_type": "code",
   "execution_count": null,
   "metadata": {},
   "outputs": [],
   "source": []
  },
  {
   "cell_type": "markdown",
   "metadata": {},
   "source": [
    "**Wet Days**"
   ]
  },
  {
   "cell_type": "code",
   "execution_count": 85,
   "metadata": {
    "ExecuteTime": {
     "end_time": "2021-11-15T20:04:35.099756Z",
     "start_time": "2021-11-15T20:04:35.096998Z"
    }
   },
   "outputs": [],
   "source": [
    "del realSfc_daytime\n",
    "del artSfc_daytime\n",
    "del artSfcMult_daytime"
   ]
  },
  {
   "cell_type": "code",
   "execution_count": 86,
   "metadata": {
    "ExecuteTime": {
     "end_time": "2021-11-15T20:08:14.447124Z",
     "start_time": "2021-11-15T20:08:14.253961Z"
    }
   },
   "outputs": [],
   "source": [
    "# Variable name for PBL variable\n",
    "PBLname = 'PBLH'\n",
    "\n",
    "# Select just 7a-7p: \n",
    "iHours              = np.where((hourlyMean_wWet_realSfc.hour.values>=7) & (hourlyMean_wWet_realSfc.hour.values<=19))[0]\n",
    "\n",
    "realSfc_daytime     = hourlyMean_wWet_realSfc.isel(hour=iHours)\n",
    "artSfc_daytime      = hourlyMean_wWet_artSfc.isel(hour=iHours)\n",
    "artSfcMult_daytime  = hourlyMean_wWet_artSfcMult.isel(hour=iHours)\n",
    "\n",
    "\n",
    "rho_real     = air_density(realSfc_daytime.PS.values,    realSfc_daytime.TREFHT.values,    realSfc_daytime.QREFHT.values)\n",
    "rho_art      = air_density(artSfc_daytime.PS.values,     artSfc_daytime.TREFHT.values,     artSfc_daytime.QREFHT.values)\n",
    "rho_artMult  = air_density(artSfcMult_daytime.PS.values, artSfcMult_daytime.TREFHT.values, artSfcMult_daytime.QREFHT.values)\n",
    "\n",
    "realSfc_daytime['rho'] = (('hour','case','lat','lon'), rho_real)\n",
    "artSfc_daytime['rho'] = (('hour','case','lat','lon'), rho_art)\n",
    "artSfcMult_daytime['rho'] = (('hour','case','lat','lon'), rho_artMult)\n",
    "\n",
    "# Get mean over daytime hours\n",
    "realSfc_daytimeMean    = realSfc_daytime.mean(dim='hour')\n",
    "artSfc_daytimeMean     = artSfc_daytime.mean(dim='hour')\n",
    "artMultSfc_daytimeMean = artSfcMult_daytime.mean(dim='hour')\n",
    "\n",
    "## Get points for Cp_delTheta and L_delQ \n",
    "real_Cp_delTheta = (np.squeeze(realSfc_daytimeMean.SHFLX.values)*(13*60*60))/(np.squeeze(realSfc_daytimeMean.rho.values )* np.squeeze(realSfc_daytimeMean[PBLname].values))\n",
    "bowen_real       = np.squeeze(realSfc_daytimeMean.SHFLX.values)/np.squeeze(realSfc_daytimeMean.LHFLX.values)\n",
    "real_L_delQ      = real_Cp_delTheta/bowen_real\n",
    "\n",
    "art_Cp_delTheta = (np.squeeze(artSfc_daytimeMean.SHFLX.values)*(13*60*60))/(np.squeeze(artSfc_daytimeMean.rho.values )* np.squeeze(artSfc_daytimeMean[PBLname].values))\n",
    "bowen_art       = np.squeeze(artSfc_daytimeMean.SHFLX.values)/np.squeeze(artSfc_daytimeMean.LHFLX.values)\n",
    "art_L_delQ      = art_Cp_delTheta/bowen_art\n",
    "\n",
    "artMult_Cp_delTheta = (np.squeeze(artMultSfc_daytimeMean.SHFLX.values)*(13*60*60))/(np.squeeze(artMultSfc_daytimeMean.rho.values )* np.squeeze(artMultSfc_daytimeMean[PBLname].values))\n",
    "bowen_artMult       = np.squeeze(artMultSfc_daytimeMean.SHFLX.values)/np.squeeze(artMultSfc_daytimeMean.LHFLX.values)\n",
    "artMult_L_delQ      = artMult_Cp_delTheta/bowen_artMult\n",
    "\n"
   ]
  },
  {
   "cell_type": "code",
   "execution_count": 74,
   "metadata": {},
   "outputs": [
    {
     "name": "stdout",
     "output_type": "stream",
     "text": [
      "Real Surface Bowen_entrainment: \n",
      "HMG    :   0.27998662\n",
      "HTG    :   0.30382028\n",
      "HTG*10    :   0.29629728\n",
      "\n",
      "Artificial Surface Bowen_entrainment: \n",
      "HMG    :   0.34592792\n",
      "HTG    :   0.33060917\n",
      "HTG*0.5    :   0.34028846\n",
      "HTG*0.25    :   0.33063972\n"
     ]
    }
   ],
   "source": [
    "caseNames = np.asarray(['HMG','HTG','HTG*10'])\n",
    "print('Real Surface Bowen_entrainment: ')\n",
    "for iCase in range(len(caseNames)):\n",
    "    print(caseNames[iCase], '   :  ', bowen_real[iCase])\n",
    "    \n",
    "print()\n",
    "\n",
    "print('Artificial Surface Bowen_entrainment: ')\n",
    "caseNames = np.asarray(['HMG', 'HTG'])\n",
    "for iCase in range(len(caseNames)):\n",
    "    print(caseNames[iCase], '   :  ', bowen_art[iCase])\n",
    "    \n",
    "caseNames = np.asarray(['HTG*0.5', 'HTG*0.25'])\n",
    "for iCase in range(len(caseNames)):\n",
    "    print(caseNames[iCase], '   :  ', bowen_artMult[iCase])    \n",
    "    \n",
    "    "
   ]
  },
  {
   "cell_type": "code",
   "execution_count": 75,
   "metadata": {},
   "outputs": [
    {
     "name": "stdout",
     "output_type": "stream",
     "text": [
      "Real Surface rho: \n",
      "HMG    :   [[1.10225]]\n",
      "HTG    :   [[1.1050462]]\n",
      "HTG*10    :   [[1.103893]]\n",
      "\n",
      "Artificial Surface rho: \n",
      "HMG    :   [[1.0963616]]\n",
      "HTG    :   [[1.095525]]\n",
      "HTG*0.5    :   [[1.0966514]]\n",
      "HTG*0.25    :   [[1.0959855]]\n"
     ]
    }
   ],
   "source": [
    "caseNames = np.asarray(['HMG','HTG','HTG*10'])\n",
    "print('Real Surface rho: ')\n",
    "for iCase in range(len(caseNames)):\n",
    "    print(caseNames[iCase], '   :  ', realSfc_daytimeMean.rho.values[iCase])\n",
    "    \n",
    "print()\n",
    "\n",
    "print('Artificial Surface rho: ')\n",
    "caseNames = np.asarray(['HMG', 'HTG'])\n",
    "for iCase in range(len(caseNames)):\n",
    "    print(caseNames[iCase], '   :  ', artSfc_daytimeMean.rho.values[iCase])\n",
    "    \n",
    "caseNames = np.asarray(['HTG*0.5', 'HTG*0.25'])\n",
    "for iCase in range(len(caseNames)):\n",
    "    print(caseNames[iCase], '   :  ', artMultSfc_daytimeMean.rho.values[iCase])    \n",
    "    \n",
    "    "
   ]
  },
  {
   "cell_type": "code",
   "execution_count": 76,
   "metadata": {},
   "outputs": [
    {
     "name": "stdout",
     "output_type": "stream",
     "text": [
      "Real Surface PBLH: \n",
      "HMG    :   [[630.5772]]\n",
      "HTG    :   [[650.49286]]\n",
      "HTG*10    :   [[601.72284]]\n",
      "\n",
      "Artificial Surface PBLH: \n",
      "HMG    :   [[688.1332]]\n",
      "HTG    :   [[643.5224]]\n",
      "HTG*0.5    :   [[665.28705]]\n",
      "HTG*0.25    :   [[661.05634]]\n"
     ]
    }
   ],
   "source": [
    "caseNames = np.asarray(['HMG','HTG','HTG*10'])\n",
    "print('Real Surface %s: ' % PBLname)\n",
    "for iCase in range(len(caseNames)):\n",
    "    print(caseNames[iCase], '   :  ', realSfc_daytimeMean[PBLname].values[iCase])\n",
    "    \n",
    "print()\n",
    "\n",
    "print('Artificial Surface %s: ' % PBLname)\n",
    "caseNames = np.asarray(['HMG', 'HTG'])\n",
    "for iCase in range(len(caseNames)):\n",
    "    print(caseNames[iCase], '   :  ', artSfc_daytimeMean[PBLname].values[iCase])\n",
    "    \n",
    "caseNames = np.asarray(['HTG*0.5', 'HTG*0.25'])\n",
    "for iCase in range(len(caseNames)):\n",
    "    print(caseNames[iCase], '   :  ', artMultSfc_daytimeMean[PBLname].values[iCase])    \n",
    "    \n",
    "    "
   ]
  },
  {
   "cell_type": "code",
   "execution_count": null,
   "metadata": {},
   "outputs": [],
   "source": []
  },
  {
   "cell_type": "code",
   "execution_count": 87,
   "metadata": {
    "ExecuteTime": {
     "end_time": "2021-11-15T20:08:14.639482Z",
     "start_time": "2021-11-15T20:08:14.630022Z"
    }
   },
   "outputs": [],
   "source": [
    "real_LvQ = hourlyMean_wWet_realSfc.QREFHT.values[7:20,:,0,0]*Lv\n",
    "real_CpT = hourlyMean_wWet_realSfc.TREFHT.values[7:20,:,0,0]*Cp\n",
    "\n",
    "art_LvQ  = hourlyMean_wWet_artSfc.QREFHT.values[7:20,:,0,0]*Lv\n",
    "art_CpT  = hourlyMean_wWet_artSfc.TREFHT.values[7:20,:,0,0]*Cp\n",
    "\n",
    "artMult_LvQ  = hourlyMean_wWet_artSfcMult.QREFHT.values[7:20,:,0,0]*Lv\n",
    "artMult_CpT  = hourlyMean_wWet_artSfcMult.TREFHT.values[7:20,:,0,0]*Cp\n"
   ]
  },
  {
   "cell_type": "code",
   "execution_count": 88,
   "metadata": {
    "ExecuteTime": {
     "end_time": "2021-11-15T20:08:15.564752Z",
     "start_time": "2021-11-15T20:08:15.259860Z"
    }
   },
   "outputs": [
    {
     "data": {
      "text/plain": [
       "<matplotlib.legend.Legend at 0x7fb39f676a30>"
      ]
     },
     "execution_count": 88,
     "metadata": {},
     "output_type": "execute_result"
    },
    {
     "data": {
      "image/png": "[encoded data removed]",
      "text/plain": [
       "<Figure size 1080x432 with 2 Axes>"
      ]
     },
     "metadata": {
      "needs_background": "light"
     },
     "output_type": "display_data"
    }
   ],
   "source": [
    "# Make the plots! \n",
    "fig,axs = plt.subplots(1,2, figsize=(15,6))\n",
    "axs     = axs.ravel()\n",
    "\n",
    "\n",
    "## Plot real surface\n",
    "# - - - - - - - - - - - \n",
    "\n",
    "caseNames = np.asarray(['HMG','HTG','HTG*10'])\n",
    "colorList = np.asarray(['orange','violet','purple'])\n",
    "offset_7aText = np.asarray([ [1.0,    0.994, 0.999], \n",
    "                             [0.9985, 1.001, 0.9985] ])\n",
    "\n",
    "for iCase in range(3):\n",
    "    axs[0].plot(real_LvQ[:,iCase], real_CpT[:,iCase],'o-',\n",
    "                markersize=3, color=colorList[iCase], label=caseNames[iCase])\n",
    "    \n",
    "    # Add vectors\n",
    "    axs[0].plot([real_LvQ[0,iCase], real_LvQ[0,iCase]+real_L_delQ[iCase]], \n",
    "                [real_CpT[0,iCase], real_CpT[0,iCase]+real_Cp_delTheta[iCase]],\n",
    "                '--', color=colorList[iCase], alpha=0.8)\n",
    "    axs[0].plot([real_LvQ[0,iCase]+real_L_delQ[iCase], real_LvQ[-1,iCase]], \n",
    "                [real_CpT[0,iCase]+real_Cp_delTheta[iCase], real_CpT[-1,iCase]],\n",
    "                '--', color=colorList[iCase], alpha=0.8)\n",
    "    # Add 7 am labels\n",
    "    axs[0].text(real_LvQ[0,iCase]*offset_7aText[0,iCase], \n",
    "                real_CpT[0,iCase]*offset_7aText[1,iCase], '7 AM', color=colorList[iCase], fontsize=12)\n",
    "    \n",
    "## Plot observations T/Q:\n",
    "# - - - - - - - - - - - \n",
    "axs[0].plot( hourlyMean_wWet_Obs.q_srf.values[7:20]*Lv, \n",
    "            (hourlyMean_wWet_Obs.T_srf.values[7:20]+273.15)*Cp,'o-',\n",
    "                markersize=3, color='k', label='Obs')\n",
    "\n",
    "\n",
    "## Plot artificial surface\n",
    "# - - - - - - - - - - - \n",
    "caseNames = np.asarray(['HMG','HTG'])\n",
    "colorList = np.asarray(['red','blue'])\n",
    "offset_7aText = np.asarray([ [0.99,    1.001 ], \n",
    "                             [1.0005,  0.999   ] ])\n",
    "\n",
    "for iCase in range(2): \n",
    "    axs[1].plot(art_LvQ[:,iCase], art_CpT[:,iCase],'o-',\n",
    "                markersize=3, color=colorList[iCase], label=caseNames[iCase])\n",
    "    \n",
    "    # Add vectors\n",
    "    axs[1].plot([art_LvQ[0,iCase], art_LvQ[0,iCase]+art_L_delQ[iCase]], \n",
    "                [art_CpT[0,iCase], art_CpT[0,iCase]+art_Cp_delTheta[iCase]],\n",
    "                '--', color=colorList[iCase], alpha=0.8)\n",
    "    axs[1].plot([art_LvQ[0,iCase]+art_L_delQ[iCase], art_LvQ[-1,iCase]], \n",
    "                [art_CpT[0,iCase]+art_Cp_delTheta[iCase], art_CpT[-1,iCase]],\n",
    "                '--', color=colorList[iCase], alpha=0.8)\n",
    "    # Add 7 am labels\n",
    "    axs[1].text(art_LvQ[0,iCase]*offset_7aText[0,iCase], \n",
    "                art_CpT[0,iCase]*offset_7aText[1,iCase], '7 AM', color=colorList[iCase], fontsize=12)\n",
    "    \n",
    "    \n",
    "# Add multipliers\n",
    "caseNames = np.asarray(['HTG*0.5','HTG*.25'])\n",
    "colorList = np.asarray(['dodgerblue','skyblue'])\n",
    "offset_7aText = np.asarray([ [0.993,   0.995 ], \n",
    "                             [0.9995,  0.999   ] ])\n",
    "\n",
    "for iCase in range(2): \n",
    "    axs[1].plot(artMult_LvQ[:,iCase], artMult_CpT[:,iCase],'o-',\n",
    "                markersize=3, color=colorList[iCase], label=caseNames[iCase])\n",
    "    \n",
    "    # Add vectors\n",
    "    axs[1].plot([artMult_LvQ[0,iCase], artMult_LvQ[0,iCase]+artMult_L_delQ[iCase]], \n",
    "                [artMult_CpT[0,iCase], artMult_CpT[0,iCase]+artMult_Cp_delTheta[iCase]],\n",
    "                '--', color=colorList[iCase], alpha=0.8)\n",
    "    axs[1].plot([artMult_LvQ[0,iCase]+artMult_L_delQ[iCase], artMult_LvQ[-1,iCase]], \n",
    "                [artMult_CpT[0,iCase]+artMult_Cp_delTheta[iCase], artMult_CpT[-1,iCase]],\n",
    "                '--', color=colorList[iCase], alpha=0.8)\n",
    "    # Add 7 am labels\n",
    "    axs[1].text(artMult_LvQ[0,iCase]*offset_7aText[0,iCase], \n",
    "                artMult_CpT[0,iCase]*offset_7aText[1,iCase], '7 AM', color=colorList[iCase], fontsize=12)\n",
    "    \n",
    "\n",
    "\n",
    "## Add titles/labels \n",
    "# - - - - - - - - - - - \n",
    "axs[0].set_ylabel('2m Temperature (T * Cp)', fontsize=12)\n",
    "axs[0].set_xlabel('2m Humidity (q*Lv)',fontsize=12)\n",
    "axs[1].set_xlabel('2m Humidity (q*Lv)',fontsize=12)\n",
    "\n",
    "\n",
    "axs[0].set_title('Wet days (Real Sfc)')\n",
    "axs[1].set_title('Wet days (Artificial Sfc)')\n",
    "\n",
    "axs[0].legend()\n",
    "axs[1].legend()\n"
   ]
  },
  {
   "cell_type": "code",
   "execution_count": 79,
   "metadata": {},
   "outputs": [
    {
     "name": "stdout",
     "output_type": "stream",
     "text": [
      "Real Surface Bowen_entrainment: \n",
      "HMG    :   -0.18629088\n",
      "HTG    :   -0.21040262\n",
      "HTG*10    :   -0.17967908\n",
      "\n",
      "Real Surface V_sfc: \n",
      "HMG    :   10519.792439266703\n",
      "HTG    :   10132.258413057058\n",
      "HTG*10    :   10680.833004224784\n"
     ]
    }
   ],
   "source": [
    "# The slope of the top vector is exactly equal to the bowen ratio of entrainment. \n",
    "#   Slope = rise/run \n",
    "\n",
    "caseNames = np.asarray(['HMG','HTG','HTG*10'])\n",
    "bowen_entrainment_real = ( real_CpT[-1,:] - (real_CpT[0,:]+real_Cp_delTheta[:]) ) / ( real_LvQ[-1,:] - (real_LvQ[0,:]+real_L_delQ[:][:]) ) \n",
    "\n",
    "print('Real Surface Bowen_entrainment: ')\n",
    "for iCase in range(len(caseNames)):\n",
    "    print(caseNames[iCase], '   :  ', bowen_entrainment_real[iCase])\n",
    "    \n",
    "print('\\nReal Surface V_sfc: ')\n",
    "for iCase in range(len(caseNames)):\n",
    "    print(caseNames[iCase], '   :  ', np.sqrt(real_Cp_delTheta[iCase]**2 + real_L_delQ[iCase]**2))\n",
    "    "
   ]
  },
  {
   "cell_type": "code",
   "execution_count": 80,
   "metadata": {},
   "outputs": [
    {
     "name": "stdout",
     "output_type": "stream",
     "text": [
      "Artificial Surface Bowen_entrainment: \n",
      "HMG    :   -0.08338305\n",
      "HTG    :   -0.062294014\n",
      "HTG*0.5    :   -0.07409989\n",
      "HTG*0.25    :   -0.07720676\n",
      "\n",
      "Artificial Surface V_sfc: \n",
      "HMG    :   8725.868975039473\n",
      "HTG    :   9410.788074235754\n",
      "HTG*0.5    :   9004.70765529651\n",
      "HTG*0.25    :   8906.115856994445\n"
     ]
    }
   ],
   "source": [
    "# The slope of the top vector is exactly equal to the bowen ratio of entrainment. \n",
    "#   Slope = rise/run \n",
    "\n",
    "caseNames = np.asarray(['HMG','HTG','HTG*0.5','HTG*0.25'])\n",
    "\n",
    "bowen_entrainment_art     = ( art_CpT[-1,:]     - (art_CpT[0,:]+art_Cp_delTheta[:]) )         / ( art_LvQ[-1,:]  - (art_LvQ[0,:]+art_L_delQ[:])) \n",
    "bowen_entrainment_artMult = ( artMult_CpT[-1,:] - (artMult_CpT[0,:]+artMult_Cp_delTheta[:]) ) / ( artMult_LvQ[-1,:] - (artMult_LvQ[0,:]+artMult_L_delQ[:]) ) \n",
    "\n",
    "bowen_entrainmentArtAll = np.append(bowen_entrainment_art, bowen_entrainment_artMult)\n",
    "Cp_delTheta_artAll      = np.append(art_Cp_delTheta, artMult_Cp_delTheta)\n",
    "L_delQ_artAll           = np.append(art_L_delQ, artMult_L_delQ)\n",
    "\n",
    "print('Artificial Surface Bowen_entrainment: ')\n",
    "for iCase in range(len(caseNames)):\n",
    "    print(caseNames[iCase], '   :  ', bowen_entrainmentArtAll[iCase])\n",
    "    \n",
    "print('\\nArtificial Surface V_sfc: ')\n",
    "for iCase in range(len(caseNames)):\n",
    "    print(caseNames[iCase], '   :  ', np.sqrt(Cp_delTheta_artAll[iCase]**2 + L_delQ_artAll[iCase]**2))\n",
    "    \n",
    "    "
   ]
  },
  {
   "cell_type": "code",
   "execution_count": null,
   "metadata": {},
   "outputs": [],
   "source": []
  },
  {
   "cell_type": "code",
   "execution_count": null,
   "metadata": {},
   "outputs": [],
   "source": []
  }
 ],
 "metadata": {
  "kernelspec": {
   "display_name": "Python 3 (ipykernel)",
   "language": "python",
   "name": "python3"
  },
  "language_info": {
   "codemirror_mode": {
    "name": "ipython",
    "version": 3
   },
   "file_extension": ".py",
   "mimetype": "text/x-python",
   "name": "python",
   "nbconvert_exporter": "python",
   "pygments_lexer": "ipython3",
   "version": "3.7.12"
  }
 },
 "nbformat": 4,
 "nbformat_minor": 4
}
