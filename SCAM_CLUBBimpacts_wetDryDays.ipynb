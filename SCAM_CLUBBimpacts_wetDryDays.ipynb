{
 "cells": [
  {
   "cell_type": "code",
   "execution_count": 1,
   "metadata": {},
   "outputs": [],
   "source": [
    "# Load libraries\n",
    "\n",
    "# # Plotting utils \n",
    "import matplotlib.pyplot as plt \n",
    "import matplotlib.colors as colors\n",
    "import matplotlib.ticker as ticker \n",
    "import matplotlib.patches as patches\n",
    "import matplotlib as matplotlib\n",
    "from mpl_toolkits.axes_grid1 import make_axes_locatable\n",
    "\n",
    "# Analysis\n",
    "import os\n",
    "import numpy as np \n",
    "import xarray as xr\n",
    "import datetime\n",
    "from   datetime import date, timedelta\n",
    "import pandas as pd \n",
    "#import regionmask\n",
    "import pickle\n",
    "import scipy.stats as stats\n",
    "import glob\n",
    "import Ngl\n",
    "import Nio \n"
   ]
  },
  {
   "cell_type": "code",
   "execution_count": 2,
   "metadata": {},
   "outputs": [],
   "source": [
    "import warnings\n",
    "warnings.filterwarnings('ignore')\n"
   ]
  },
  {
   "cell_type": "markdown",
   "metadata": {},
   "source": [
    "## Read in SCAM simulation (64 levels)"
   ]
  },
  {
   "cell_type": "code",
   "execution_count": 3,
   "metadata": {},
   "outputs": [],
   "source": [
    "# Where the files are saved (locally):\n",
    "dataDir64 = '/Users/mdfowler/Documents/Analysis/CLASP/SCAM_runs/AllMoments-64levs/'\n",
    "\n",
    "# File naming conventions: \n",
    "hmg_startFile   = 'FSCAM.T42_T42.arm97.clasp_hmg_startDay'   # 32 and 64 level files *start* the same way\n",
    "htg_startFile   = 'FSCAM.T42_T42.arm97.clasp_htg_startDay'\n",
    "middleFile64    = '_64lev_AllMoments.cam.h0.2015-' # Default 20 min coupling\n",
    "endFile         = '-00000.nc'\n",
    "\n",
    "# Month/day also factor into naming convention (since these are run for ~2 days and second day is used)\n",
    "months    = np.ones(31)*6\n",
    "months[0] = 5\n",
    "days      = np.arange(0,31)\n",
    "days[0]   = 31\n"
   ]
  },
  {
   "cell_type": "code",
   "execution_count": 22,
   "metadata": {
    "scrolled": true
   },
   "outputs": [
    {
     "name": "stdout",
     "output_type": "stream",
     "text": [
      "Done with day 0\n",
      "Done with day 1\n",
      "Done with day 2\n",
      "Done with day 3\n",
      "Done with day 4\n",
      "Done with day 5\n",
      "Done with day 6\n",
      "Done with day 7\n",
      "Done with day 8\n",
      "Done with day 9\n",
      "Done with day 10\n",
      "Done with day 11\n",
      "Done with day 12\n",
      "Done with day 13\n",
      "Done with day 14\n",
      "Done with day 15\n",
      "Done with day 16\n",
      "Done with day 17\n",
      "Done with day 18\n",
      "Done with day 19\n",
      "Done with day 20\n",
      "Done with day 21\n",
      "Done with day 22\n",
      "Done with day 23\n",
      "Done with day 24\n",
      "Done with day 25\n",
      "Done with day 26\n",
      "Done with day 27\n",
      "Done with day 28\n"
     ]
    }
   ],
   "source": [
    "# Now read in each daily file, and save the appropriate second day to an xr dataset: \n",
    "\n",
    "for iDay in range(29):\n",
    "    \n",
    "    # Define full file names \n",
    "    hmg64file    = dataDir64+hmg_startFile+'0'+str(months[iDay].astype(int))+str('%02i' % days[iDay])+middleFile64+'0'+str(months[iDay].astype(int))+'-'+str('%02i' % days[iDay])+endFile\n",
    "    htg64file    = dataDir64+htg_startFile+'0'+str(months[iDay].astype(int))+str('%02i' % days[iDay])+middleFile64+'0'+str(months[iDay].astype(int))+'-'+str('%02i' % days[iDay])+endFile\n",
    "    \n",
    "    # ---------------------- \n",
    "    # Read in 64 levels data\n",
    "    # ----------------------\n",
    "    # Read in files with homogeneous surface forcing prescribed \n",
    "    with xr.open_dataset(hmg64file, decode_times=True) as hmg64_DS:\n",
    "        hmg64_DS['time']  = hmg64_DS.indexes['time'].to_datetimeindex()\n",
    "        \n",
    "        # Select day: \n",
    "        times_hmg  = pd.DatetimeIndex(hmg64_DS['time'].values)\n",
    "        iTimeStart = np.where((times_hmg.day==days[iDay+1]) & (times_hmg.hour==6))[0]\n",
    "        iTimeEnd   = np.where((times_hmg.day==days[iDay+2]) & (times_hmg.hour==6))[0]\n",
    "        iTimeRange = np.arange(iTimeStart[0],iTimeEnd[0])\n",
    "        \n",
    "        if iDay==0:\n",
    "            hmgDS_64 = hmg64_DS.isel(time=iTimeRange)\n",
    "        else:\n",
    "            hmgDS_64 = xr.concat([hmgDS_64,hmg64_DS.isel(time=iTimeRange)], dim='time')\n",
    "\n",
    "\n",
    "    # Read in files with heterogeneous surface forcing prescribed     \n",
    "    with xr.open_dataset(htg64file, decode_times=True) as htg64_DS:\n",
    "        htg64_DS['time']  = htg64_DS.indexes['time'].to_datetimeindex()\n",
    "        \n",
    "        # Select day: \n",
    "        times_htg  = pd.DatetimeIndex(htg64_DS['time'].values)\n",
    "        iTimeStart = np.where((times_htg.day==days[iDay+1]) & (times_htg.hour==6))[0]\n",
    "        iTimeEnd   = np.where((times_htg.day==days[iDay+2]) & (times_htg.hour==6))[0]\n",
    "        iTimeRange = np.arange(iTimeStart[0],iTimeEnd[0])\n",
    "        \n",
    "        if iDay==0:\n",
    "            htgDS_64 = htg64_DS.isel(time=iTimeRange)\n",
    "        else:\n",
    "            htgDS_64 = xr.concat([htgDS_64,htg64_DS.isel(time=iTimeRange)], dim='time')\n",
    "    \n",
    "\n",
    "    print('Done with day %i' % iDay)\n",
    "    "
   ]
  },
  {
   "cell_type": "code",
   "execution_count": 6,
   "metadata": {},
   "outputs": [],
   "source": [
    "# Also read in the IOP files from Nate:\n",
    "nateHMGfile = '/Users/mdfowler/Documents/Analysis/CLASP/NateForcing/clasp-hmg.nc'\n",
    "nateHTGfile = '/Users/mdfowler/Documents/Analysis/CLASP/NateForcing/clasp-htg.nc'\n",
    "\n",
    "nateHMG = xr.open_dataset(nateHMGfile,decode_times=True)\n",
    "nateHTG = xr.open_dataset(nateHTGfile,decode_times=True)\n",
    "\n",
    "nateTime = pd.DatetimeIndex(nateHMG.time.values, tz='UTC')\n",
    "\n"
   ]
  },
  {
   "cell_type": "markdown",
   "metadata": {},
   "source": [
    "**Convert to local time**"
   ]
  },
  {
   "cell_type": "code",
   "execution_count": 7,
   "metadata": {},
   "outputs": [],
   "source": [
    "# Convert times to a pandas datetime array, with UTC timezone\n",
    "timesHTG_64 = pd.DatetimeIndex(htgDS_64.time.values, tz='UTC')\n",
    "timesHMG_64 = pd.DatetimeIndex(hmgDS_64.time.values, tz='UTC')\n",
    "\n",
    "# Now convert those to Central time \n",
    "timesHTG_64local = timesHTG_64.tz_convert(tz='US/Central') \n",
    "timesHMG_64local = timesHMG_64.tz_convert(tz='US/Central') \n",
    "\n",
    "timesNate_local = nateTime.tz_convert(tz='US/Central')"
   ]
  },
  {
   "cell_type": "markdown",
   "metadata": {},
   "source": [
    "**Interpolate to constant pressure levels**"
   ]
  },
  {
   "cell_type": "code",
   "execution_count": 5,
   "metadata": {},
   "outputs": [],
   "source": [
    "# New pressure levels in hPa \n",
    "pnew64 = np.arange(700.0,990.0,10.0) \n",
    "\n",
    "# ---------------------------------------------------\n",
    "#   64 levels \n",
    "# ---------------------------------------------------\n",
    "p0mb = htgDS_64.P0.values[0]/100        # mb\n",
    "# Pull out hya/hyb profiles \n",
    "hyam = htgDS_64.hyam.values[0,:]\n",
    "hybm = htgDS_64.hybm.values[0,:]\n",
    "hyai = htgDS_64.hyai.values[0,:]\n",
    "hybi = htgDS_64.hybi.values[0,:]\n",
    "\n",
    "# Surface pressure with time dimension\n",
    "PS_htg   = htgDS_64.PS.values              # Pa \n",
    "PS_hmg   = hmgDS_64.PS.values              # Pa\n",
    "\n",
    "# Converting HTG variables: \n",
    "THLP2_htg64  = Ngl.vinth2p(htgDS_64.THLP2_CLUBB.values,hyai,hybi,pnew64,PS_htg,1,p0mb,1,True)\n",
    "WPTHLP_htg64 = Ngl.vinth2p(htgDS_64.WPTHLP_CLUBB.values,hyai,hybi,pnew64,PS_htg,1,p0mb,1,True)\n",
    "UP2_htg64    = Ngl.vinth2p(htgDS_64.UP2_CLUBB.values,hyai,hybi,pnew64,PS_htg,1,p0mb,1,True)\n",
    "WP2_htg64    = Ngl.vinth2p(htgDS_64.WP2_CLUBB.values,hyai,hybi,pnew64,PS_htg,1,p0mb,1,True)\n",
    "WP3_htg64    = Ngl.vinth2p(htgDS_64.WP3_CLUBB.values,hyai,hybi,pnew64,PS_htg,1,p0mb,1,True)\n",
    "WPRTP_htg64  = Ngl.vinth2p(htgDS_64.WPRTP_CLUBB.values,hyai,hybi,pnew64,PS_htg,1,p0mb,1,True)\n",
    "RTP2_htg64   = Ngl.vinth2p(htgDS_64.RTP2_CLUBB.values,hyai,hybi,pnew64,PS_htg,1,p0mb,1,True)\n",
    "WPTHVP_htg64 = Ngl.vinth2p(htgDS_64.WPTHVP_CLUBB.values,hyam,hybm,pnew64,PS_htg,1,p0mb,1,True)\n",
    "WSUB_htg64   = Ngl.vinth2p(htgDS_64.WSUB.values ,hyam,hybm,pnew64,PS_htg,1,p0mb,1,True)\n",
    "T_htg64      = Ngl.vinth2p(htgDS_64.T.values,hyam,hybm,pnew64,PS_htg,1,p0mb,1,True)\n",
    "Q_htg64      = Ngl.vinth2p(htgDS_64.Q.values,hyam,hybm,pnew64,PS_htg,1,p0mb,1,True)\n",
    "OMEGA_htg64  = Ngl.vinth2p(htgDS_64.OMEGA.values ,hyam,hybm,pnew64,PS_htg,1,p0mb,1,True)\n",
    "THETAL_htg64 = Ngl.vinth2p(htgDS_64.THETAL.values,hyam,hybm,pnew64,PS_htg,1,p0mb,1,True)\n",
    "RVMTEND_htg64 = Ngl.vinth2p(htgDS_64.RVMTEND_CLUBB.values,hyam,hybm,pnew64,PS_htg,1,p0mb,1,True)\n",
    "\n",
    "# Converting HMG variables: \n",
    "THLP2_hmg64  = Ngl.vinth2p(hmgDS_64.THLP2_CLUBB.values,hyai,hybi,pnew64,PS_hmg,1,p0mb,1,True)\n",
    "WPTHLP_hmg64 = Ngl.vinth2p(hmgDS_64.WPTHLP_CLUBB.values,hyai,hybi,pnew64,PS_hmg,1,p0mb,1,True)\n",
    "UP2_hmg64    = Ngl.vinth2p(hmgDS_64.UP2_CLUBB.values,hyai,hybi,pnew64,PS_hmg,1,p0mb,1,True)\n",
    "WP2_hmg64    = Ngl.vinth2p(hmgDS_64.WP2_CLUBB.values,hyai,hybi,pnew64,PS_hmg,1,p0mb,1,True)\n",
    "WP3_hmg64    = Ngl.vinth2p(hmgDS_64.WP3_CLUBB.values,hyai,hybi,pnew64,PS_hmg,1,p0mb,1,True)\n",
    "WPRTP_hmg64  = Ngl.vinth2p(hmgDS_64.WPRTP_CLUBB.values,hyai,hybi,pnew64,PS_hmg,1,p0mb,1,True)\n",
    "RTP2_hmg64   = Ngl.vinth2p(hmgDS_64.RTP2_CLUBB.values,hyai,hybi,pnew64,PS_hmg,1,p0mb,1,True)\n",
    "WPTHVP_hmg64 = Ngl.vinth2p(hmgDS_64.WPTHVP_CLUBB.values,hyam,hybm,pnew64,PS_hmg,1,p0mb,1,True)\n",
    "WSUB_hmg64   = Ngl.vinth2p(hmgDS_64.WSUB.values ,hyam,hybm,pnew64,PS_hmg,1,p0mb,1,True)\n",
    "T_hmg64      = Ngl.vinth2p(hmgDS_64.T.values,hyam,hybm,pnew64,PS_hmg,1,p0mb,1,True)\n",
    "Q_hmg64      = Ngl.vinth2p(hmgDS_64.Q.values,hyam,hybm,pnew64,PS_hmg,1,p0mb,1,True)\n",
    "OMEGA_hmg64  = Ngl.vinth2p(hmgDS_64.OMEGA.values ,hyam,hybm,pnew64,PS_hmg,1,p0mb,1,True)\n",
    "THETAL_hmg64 = Ngl.vinth2p(hmgDS_64.THETAL.values,hyam,hybm,pnew64,PS_hmg,1,p0mb,1,True)\n",
    "RVMTEND_hmg64 = Ngl.vinth2p(hmgDS_64.RVMTEND_CLUBB.values,hyam,hybm,pnew64,PS_hmg,1,p0mb,1,True)\n"
   ]
  },
  {
   "cell_type": "markdown",
   "metadata": {},
   "source": [
    "## Figure out daily rainfall amounts and how to split the data"
   ]
  },
  {
   "cell_type": "code",
   "execution_count": 39,
   "metadata": {
    "scrolled": true
   },
   "outputs": [],
   "source": [
    "# Precip saved in m/s. Ideally, let's just work in mm/day. \n",
    "#    1: Multiply by number of seconds in 20 minutes (dT) and by 1000 to convert to mm\n",
    "#    2: Sum over each day (local time) \n",
    "\n",
    "prect_mm = htgDS_64.PRECT.values*(20.0*60.0)*1000.0\n",
    "\n",
    "prect_daySum = np.full([len(days)-1], np.nan)  # Note: days starts on 5/31, not 6/1 (files start there), so use 1 offset\n",
    "\n",
    "for iDay in range(len(days)-1):\n",
    "    selDay = np.where(timesHTG_64local.day==days[iDay+1])[0]\n",
    "    prect_daySum[iDay] = np.nansum(np.squeeze(prect_mm)[selDay])\n"
   ]
  },
  {
   "cell_type": "code",
   "execution_count": 241,
   "metadata": {},
   "outputs": [
    {
     "name": "stdout",
     "output_type": "stream",
     "text": [
      "Num days: 5\n",
      "Total days: 30\n",
      "0.16666666666666666\n"
     ]
    }
   ],
   "source": [
    "#prectCutoff = np.where(prect_daySum>=0.25)[0]\n",
    "prectCutoff = np.where(prect_daySum>=2)[0]\n",
    "\n",
    "print('Num days:', len(prectCutoff))\n",
    "print('Total days:', len(prect_daySum))\n",
    "print(len(prectCutoff)/len(prect_daySum))"
   ]
  },
  {
   "cell_type": "code",
   "execution_count": 242,
   "metadata": {},
   "outputs": [
    {
     "data": {
      "text/plain": [
       "<matplotlib.legend.Legend at 0x7fb932b38e20>"
      ]
     },
     "execution_count": 242,
     "metadata": {},
     "output_type": "execute_result"
    },
    {
     "data": {
      "image/png": "[encoded data removed]",
      "text/plain": [
       "<Figure size 432x288 with 1 Axes>"
      ]
     },
     "metadata": {
      "needs_background": "light"
     },
     "output_type": "display_data"
    }
   ],
   "source": [
    "# Plot days that qualify based on above classification scheme \n",
    "plt.plot(days[1::],prect_daySum,'-*')\n",
    "for i in range(len(prectCutoff)):\n",
    "    plt.plot(days[1+prectCutoff[i]], prect_daySum[prectCutoff[i]],'r*')\n",
    "\n",
    "plt.title('Daily Rainfall: June 2015',fontsize=14)\n",
    "plt.xlabel('Day',fontsize=12)\n",
    "plt.ylabel('mm',fontsize=12)\n",
    "plt.legend(['Daily Rainfall','\"Wet\" day'], fontsize=12)\n"
   ]
  },
  {
   "cell_type": "code",
   "execution_count": 243,
   "metadata": {},
   "outputs": [],
   "source": [
    "'''\n",
    "Function to send back which classification each day falls into, \n",
    "based on precipitation amount, similar to Burns et al. (2015; 2018).\n",
    "This version of the function assumes a single column run/input, \n",
    "in that only one dimension exists for precip. \n",
    "\n",
    "Inputs: \n",
    "   time:   An array of times to worry about. \n",
    "           Should be a pandas datetime.\n",
    "   precip: Daily precipitation (summed). Units can be in mm or m, \n",
    "           but need to be consistent with the threshold the user\n",
    "           defines (i.e., no unit conversions done here).\n",
    "   wetDef: User-defined threshold for defining days as wet vs. dry. \n",
    "Outputs:\n",
    "    classificationArr: Array with one fewer length than time, where\n",
    "                       the classification falls into four categories:\n",
    "                       1 :: wWet   (wet day following a wet day)\n",
    "                       2 :: wDry   (dry day following a wet day)\n",
    "                       3 :: dWet   (wet day following a dry day)\n",
    "                       4 :: dDry   (dry day following a dry day)\n",
    "                       \n",
    "                       Difference in length due to the first day not having a \n",
    "                       \"before\" day to reference. So time[0] on the \n",
    "                       classification array corresponds to time[1]. \n",
    "\n",
    "'''\n",
    "\n",
    "def classifyPrectDays_SCAM(time,precip,wetDef): \n",
    "    \n",
    "    # Define empty arrays of the appropriate length\n",
    "    nTimes               = len(time)\n",
    "    classificationArr    = np.empty([len(time)]).astype('str')\n",
    "    \n",
    "    for iDay in range(nTimes-1): \n",
    "        \n",
    "        # Wet day...\n",
    "        if precip[iDay]>=wetDef:\n",
    "            if precip[iDay+1]>=wetDef:\n",
    "                classificationArr[iDay+1] = 'wWet'  # Wet day following wet \n",
    "            elif precip[iDay+1]<wetDef : \n",
    "                classificationArr[iDay+1] = 'wDry' # Dry day following wet \n",
    "        # Dry day...\n",
    "        elif precip[iDay]<wetDef:\n",
    "            if precip[iDay+1]>=wetDef:\n",
    "                classificationArr[iDay+1] = 'dWet'  # Wet day following dry \n",
    "            elif precip[iDay+1]<wetDef : \n",
    "                classificationArr[iDay+1] = 'dDry' # Dry day following dry \n",
    "\n",
    "    return(classificationArr[1::])\n"
   ]
  },
  {
   "cell_type": "code",
   "execution_count": 244,
   "metadata": {},
   "outputs": [],
   "source": [
    "# Define classification by day... \n",
    "time   = np.arange(1,31)\n",
    "precip = prect_daySum\n",
    "#wetDef = 0.25              # Based on what was used above for prectCutoff\n",
    "wetDef = 2\n",
    "\n",
    "classArr = classifyPrectDays_SCAM(time,precip,wetDef)\n",
    "# Days the classification array applies to \n",
    "dayClass = pd.date_range(datetime.date(2015,6,2),date(2015,7,1)-timedelta(days=1),freq='d')\n",
    "\n"
   ]
  },
  {
   "cell_type": "markdown",
   "metadata": {},
   "source": [
    "## Get diurnal cycle of interesting things, split up by day"
   ]
  },
  {
   "cell_type": "code",
   "execution_count": 245,
   "metadata": {},
   "outputs": [],
   "source": [
    "'''\n",
    "Function to split up an input array\n",
    "into day/hour.\n",
    "\n",
    "Inputs: Time should be a pandas datetime array. \n",
    "        Var should be a 1d array corresponding. \n",
    "Outputs: Output will be days by hours.\n",
    "\n",
    "'''\n",
    "\n",
    "def var_separateTime(time,var):\n",
    "    \n",
    "    # Get arrays of unique years/months/days/hours \n",
    "    startDay = datetime.date(time.year[0],time.month[0],time.day[0])\n",
    "    var_separate = np.full([1,24], np.nan)  # Initialize array to hold daily data \n",
    "    \n",
    "    # Counter for number of days to split things into\n",
    "    dayCheck = 0 \n",
    "    while np.isfinite(dayCheck)==True:\n",
    "        iDay    = np.where((time.year==startDay.year)  & \n",
    "                           (time.month==startDay.month) &\n",
    "                           (time.day==startDay.day))[0]\n",
    "        \n",
    "        if len(iDay)>=1:\n",
    "            timeDay = time[iDay]\n",
    "            varDay  = var[iDay]\n",
    "            \n",
    "            # Initialize array to hold hourly values\n",
    "            hourlyVars = np.full([24],np.nan)\n",
    "            \n",
    "            for iHr in range(24):\n",
    "                selHour = np.where(timeDay.hour==iHr)[0]\n",
    "\n",
    "                # Check if not already in hourly form\n",
    "                if len(selDay)>1: \n",
    "                    varHour = np.nanmean(varDay[selHour])\n",
    "                elif len(selDay)<1:\n",
    "                    varHour = np.nan\n",
    "                else:\n",
    "                    varHour = varDay[selHour]\n",
    "                \n",
    "                # Fill in var_separateTime by day/hour\n",
    "                hourlyVars[iHr] = varHour\n",
    "\n",
    "            # Add to a daily array \n",
    "            if dayCheck==0:\n",
    "                var_separate[0,:] = hourlyVars\n",
    "            else:\n",
    "                #np.concatenate((var_separate, hourlyVars[:,None]),axis=0)\n",
    "                var_separate = np.append(var_separate, np.reshape(hourlyVars,[1,24]), axis=0)\n",
    "            \n",
    "            # Set next day \n",
    "            startDay = startDay+datetime.timedelta(days=1)\n",
    "            dayCheck = dayCheck+1\n",
    "        else: \n",
    "            dayCheck = np.nan\n",
    "    \n",
    "    return(var_separate)"
   ]
  },
  {
   "cell_type": "code",
   "execution_count": 246,
   "metadata": {
    "scrolled": true
   },
   "outputs": [],
   "source": [
    "# Split up PBLH into day/hourly mean arrays \n",
    "PBLH_hmgDaily = var_separateTime(timesHTG_64local,hmgDS_64.PBLH.values)\n",
    "PBLH_htgDaily = var_separateTime(timesHTG_64local,htgDS_64.PBLH.values)"
   ]
  },
  {
   "cell_type": "code",
   "execution_count": 201,
   "metadata": {
    "scrolled": true
   },
   "outputs": [
    {
     "data": {
      "text/plain": [
       "[<matplotlib.lines.Line2D at 0x7fb932aad0a0>]"
      ]
     },
     "execution_count": 201,
     "metadata": {},
     "output_type": "execute_result"
    },
    {
     "data": {
      "image/png": "[encoded data removed]",
      "text/plain": [
       "<Figure size 864x360 with 1 Axes>"
      ]
     },
     "metadata": {},
     "output_type": "display_data"
    }
   ],
   "source": [
    "# Sanity check that I'm still seeing the same thing as before -- yep! \n",
    "fig, ax1 = plt.subplots(1,1, figsize=(12, 5), \n",
    "                     facecolor='w', edgecolor='k')\n",
    "\n",
    "ax1.plot(np.arange(0,24), np.nanmean(PBLH_hmgDaily,axis=0),'r')\n",
    "ax1.plot(np.arange(0,24), np.nanmean(PBLH_htgDaily,axis=0), 'b')"
   ]
  },
  {
   "cell_type": "markdown",
   "metadata": {},
   "source": [
    "### Plot up PBLH differences on wW,wD,dW,dD days "
   ]
  },
  {
   "cell_type": "code",
   "execution_count": 247,
   "metadata": {},
   "outputs": [
    {
     "data": {
      "text/plain": [
       "Text(1, 1300, '22 Days of dD')"
      ]
     },
     "execution_count": 247,
     "metadata": {},
     "output_type": "execute_result"
    },
    {
     "data": {
      "image/png": "[encoded data removed]",
      "text/plain": [
       "<Figure size 1296x288 with 4 Axes>"
      ]
     },
     "metadata": {},
     "output_type": "display_data"
    }
   ],
   "source": [
    "# Pad classArr so that first element is present, but empty\n",
    "classArr_pad = np.insert(classArr, 0, 'None')\n",
    "\n",
    "iwW = np.where(classArr_pad=='wWet')[0]\n",
    "iwD = np.where(classArr_pad=='wDry')[0]\n",
    "idW = np.where(classArr_pad=='dWet')[0]\n",
    "idD = np.where(classArr_pad=='dDry')[0]\n",
    "\n",
    "#  Set up figure\n",
    "# ----------------\n",
    "fig, axs_all = plt.subplots(1,4, figsize=(18, 4),\n",
    "                     facecolor='w', edgecolor='k')\n",
    "axs = axs_all.ravel()\n",
    "fig.subplots_adjust(hspace=0.35)\n",
    "\n",
    "\n",
    "axs[0].plot(np.arange(0,24), np.nanmean(PBLH_hmgDaily[iwD,:],axis=0),'r')\n",
    "axs[0].plot(np.arange(0,24), np.nanmean(PBLH_htgDaily[iwD,:],axis=0), 'b')\n",
    "axs[0].set_title('PBLH\\nwDry Days',fontsize=14)\n",
    "axs[0].legend(['HMG','HTG'],fontsize=12)\n",
    "\n",
    "axs[1].plot(np.arange(0,24), np.nanmean(PBLH_hmgDaily[iwW,:],axis=0),'r')\n",
    "axs[1].plot(np.arange(0,24), np.nanmean(PBLH_htgDaily[iwW,:],axis=0), 'b')\n",
    "axs[1].set_title('wWet Days',fontsize=14)\n",
    "\n",
    "axs[2].plot(np.arange(0,24), np.nanmean(PBLH_hmgDaily[idW,:],axis=0),'r')\n",
    "axs[2].plot(np.arange(0,24), np.nanmean(PBLH_htgDaily[idW,:],axis=0), 'b')\n",
    "axs[2].set_title('dWet Days',fontsize=14)\n",
    "\n",
    "axs[3].plot(np.arange(0,24), np.nanmean(PBLH_hmgDaily[idD,:],axis=0),'r')\n",
    "axs[3].plot(np.arange(0,24), np.nanmean(PBLH_htgDaily[idD,:],axis=0), 'b')\n",
    "axs[3].set_title('dDry Days',fontsize=14)\n",
    "\n",
    "# Fix ylim to be constant\n",
    "axs[0].set_ylim([0,1900])\n",
    "axs[1].set_ylim([0,1900])\n",
    "axs[2].set_ylim([0,1900])\n",
    "axs[3].set_ylim([0,1900])\n",
    "\n",
    "# Remove y-ticks for all but first plot, shrink space between them \n",
    "axs[1].tick_params(labelleft=False) \n",
    "axs[2].tick_params(labelleft=False) \n",
    "axs[3].tick_params(labelleft=False) \n",
    "fig.subplots_adjust(wspace=0.05)\n",
    "\n",
    "# Add axis labels\n",
    "axs[0].set_ylabel('PBLH [m]')\n",
    "axs[0].set_xlabel('Hour (local)')\n",
    "axs[1].set_xlabel('Hour (local)')\n",
    "axs[2].set_xlabel('Hour (local)')\n",
    "axs[3].set_xlabel('Hour (local)')\n",
    "\n",
    "# Add number of days going into average \n",
    "axs[0].text(1,1300,str(len(iwD))+' Days of wD',fontsize=12)\n",
    "axs[1].text(1,1300,str(len(iwW))+' Days of wW',fontsize=12)\n",
    "axs[2].text(1,1300,str(len(idW))+' Days of dW',fontsize=12)\n",
    "axs[3].text(1,1300,str(len(idD))+' Days of dD',fontsize=12)\n"
   ]
  },
  {
   "cell_type": "code",
   "execution_count": null,
   "metadata": {},
   "outputs": [],
   "source": []
  },
  {
   "cell_type": "code",
   "execution_count": null,
   "metadata": {},
   "outputs": [],
   "source": []
  }
 ],
 "metadata": {
  "kernelspec": {
   "display_name": "Python 3",
   "language": "python",
   "name": "python3"
  },
  "language_info": {
   "codemirror_mode": {
    "name": "ipython",
    "version": 3
   },
   "file_extension": ".py",
   "mimetype": "text/x-python",
   "name": "python",
   "nbconvert_exporter": "python",
   "pygments_lexer": "ipython3",
   "version": "3.8.6"
  }
 },
 "nbformat": 4,
 "nbformat_minor": 4
}
