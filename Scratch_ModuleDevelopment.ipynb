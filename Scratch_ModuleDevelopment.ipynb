{
 "cells": [
  {
   "cell_type": "code",
   "execution_count": 14,
   "metadata": {
    "ExecuteTime": {
     "end_time": "2021-02-18T22:19:26.945886Z",
     "start_time": "2021-02-18T22:19:26.943587Z"
    }
   },
   "outputs": [],
   "source": [
    "import xarray as xr \n",
    "import numpy as np\n"
   ]
  },
  {
   "cell_type": "code",
   "execution_count": null,
   "metadata": {},
   "outputs": [],
   "source": []
  },
  {
   "cell_type": "code",
   "execution_count": null,
   "metadata": {},
   "outputs": [],
   "source": []
  },
  {
   "cell_type": "markdown",
   "metadata": {},
   "source": [
    "## Case.011: Compute weighted average of thlp2"
   ]
  },
  {
   "cell_type": "code",
   "execution_count": 8,
   "metadata": {},
   "outputs": [],
   "source": [
    "patch_qsfc = np.asarray([1.726832986199053E-002, 1.759567976518389E-002, \n",
    "              1.746236300667154E-002, 1.540402247484002E-002])\n",
    "\n",
    "patch_tsfc = np.asarray([295.623232350756, 295.951372969894, \n",
    "              295.840483209516, 291.344846310922])\n",
    "\n",
    "patch_thlp2 = np.asarray([1.030936768938763E-002, 2.036282320914031E-003, \n",
    "               1.004521156189157E-003, 2.249363961531671E-002])\n",
    "\n",
    "patch_theta = np.asarray([298.737233240327, 299.127926976650, \n",
    "               298.991788294539, 294.082454672829])"
   ]
  },
  {
   "cell_type": "code",
   "execution_count": 9,
   "metadata": {},
   "outputs": [],
   "source": [
    "patch_weights = np.asarray([0.959444020806179,5.546301946899949E-006,\n",
    "                 3.229989980862636E-002,8.250533083248102E-003])\n"
   ]
  },
  {
   "cell_type": "code",
   "execution_count": 20,
   "metadata": {},
   "outputs": [
    {
     "name": "stdout",
     "output_type": "stream",
     "text": [
      "298.70705310541285\n",
      "0.010109302932221356\n"
     ]
    }
   ],
   "source": [
    "gridMean_theta = np.sum(patch_theta*patch_weights)/np.sum(patch_weights)\n",
    "\n",
    "print(gridMean_theta)   # Same as first value in case.011 \n",
    "\n",
    "gridMean_thlp2 = np.sum(patch_thlp2*patch_weights)/np.sum(patch_weights)\n",
    "print(gridMean_thlp2)   # Same as first value in case.011 as well \n"
   ]
  },
  {
   "cell_type": "code",
   "execution_count": 24,
   "metadata": {},
   "outputs": [
    {
     "name": "stdout",
     "output_type": "stream",
     "text": [
      "[9.10840543e-04 1.77134815e-01 8.10741279e-02 2.13869107e+01]\n"
     ]
    }
   ],
   "source": [
    "thetaDiff2 = (patch_theta - gridMean_theta)**2\n",
    "print(thetaDiff2)"
   ]
  },
  {
   "cell_type": "code",
   "execution_count": 25,
   "metadata": {},
   "outputs": [
    {
     "name": "stdout",
     "output_type": "stream",
     "text": [
      "0.19005628606852865\n"
     ]
    }
   ],
   "source": [
    "final_thlp2 = gridMean_thlp2 + (np.sum(thetaDiff2*patch_weights)/np.sum(patch_weights))\n",
    "print(final_thlp2)  # Same as first value in case.011 - so everything's working as expected right now"
   ]
  },
  {
   "cell_type": "markdown",
   "metadata": {},
   "source": [
    "## Case.014: Compute weighted average of qp2"
   ]
  },
  {
   "cell_type": "code",
   "execution_count": 2,
   "metadata": {
    "ExecuteTime": {
     "end_time": "2021-02-18T17:13:01.607496Z",
     "start_time": "2021-02-18T17:13:01.605011Z"
    }
   },
   "outputs": [],
   "source": [
    "# Brazil point \n",
    "patch_weights = np.asarray([0.959444020806179, 5.546301946899949E-006,\n",
    "                 3.229989980862636E-002, 8.250533083248102E-003])"
   ]
  },
  {
   "cell_type": "code",
   "execution_count": 5,
   "metadata": {
    "ExecuteTime": {
     "end_time": "2021-02-18T17:21:28.361758Z",
     "start_time": "2021-02-18T17:21:28.358460Z"
    }
   },
   "outputs": [
    {
     "name": "stdout",
     "output_type": "stream",
     "text": [
      "1.3338133257976403e-09\n"
     ]
    }
   ],
   "source": [
    "patch_qp2 = np.asarray([7.247735476447325E-010, 6.517994579379304E-010,\n",
    "                       4.124415004887523E-014, 7.738030080858290E-008])\n",
    "\n",
    "gridMean_qp2 = np.sum(patch_qp2*patch_weights)/np.sum(patch_weights)\n",
    "print(gridMean_qp2)  # Same as in case.014, so all good here...  \n",
    "\n"
   ]
  },
  {
   "cell_type": "code",
   "execution_count": 7,
   "metadata": {
    "ExecuteTime": {
     "end_time": "2021-02-18T17:23:15.312374Z",
     "start_time": "2021-02-18T17:23:15.308840Z"
    }
   },
   "outputs": [
    {
     "name": "stdout",
     "output_type": "stream",
     "text": [
      "Grid mean Q:  0.01720610121079415\n"
     ]
    }
   ],
   "source": [
    "patch_q = np.asarray([1.721413212113480E-002, 1.751243627086415E-002,\n",
    "                     1.737798498597334E-002, 1.559908545581911E-002])\n",
    "\n",
    "gridMean_q = np.sum(patch_q*patch_weights)/np.sum(patch_weights)\n",
    "print('Grid mean Q: ', gridMean_q)  # Same as in case.014, so all good here too\n",
    "\n",
    "patch_qdiff2 = np.asarray([6.449552089954679E-011, 9.384116902808559E-008, \n",
    "               2.954403216985011E-008, 2.582499636738017E-006])\n"
   ]
  },
  {
   "cell_type": "code",
   "execution_count": 12,
   "metadata": {
    "ExecuteTime": {
     "end_time": "2021-02-18T17:36:28.783576Z",
     "start_time": "2021-02-18T17:36:28.780677Z"
    }
   },
   "outputs": [
    {
     "name": "stdout",
     "output_type": "stream",
     "text": [
      "2.365748160856417e-08\n"
     ]
    }
   ],
   "source": [
    "final_qp2 = gridMean_qp2 + (np.sum(patch_qdiff2*patch_weights)/np.sum(patch_weights))\n",
    "print(final_qp2)  # Again, same as in case.014, so all good on qp2 calculation (I think)\n"
   ]
  },
  {
   "cell_type": "markdown",
   "metadata": {},
   "source": [
    "## Case.015: Compute thlpqp"
   ]
  },
  {
   "cell_type": "code",
   "execution_count": 13,
   "metadata": {
    "ExecuteTime": {
     "end_time": "2021-02-18T22:19:22.567863Z",
     "start_time": "2021-02-18T22:19:22.564322Z"
    }
   },
   "outputs": [],
   "source": [
    "# Brazil point \n",
    "patch_weights = np.asarray([0.959444020806179, 5.546301946899949E-006,\n",
    "                 3.229989980862636E-002, 8.250533083248102E-003])\n"
   ]
  },
  {
   "cell_type": "code",
   "execution_count": 15,
   "metadata": {
    "ExecuteTime": {
     "end_time": "2021-02-18T22:20:41.137262Z",
     "start_time": "2021-02-18T22:20:41.133422Z"
    }
   },
   "outputs": [],
   "source": [
    "patch_qp2 = np.asarray([7.247735476447325E-010, 6.517994579379304E-010,\n",
    "                       4.124415004887523E-014, 7.738030080858290E-008])\n",
    "\n",
    "patch_q = np.asarray([1.721413212113480E-002, 1.751243627086415E-002,\n",
    "                     1.737798498597334E-002, 1.559908545581911E-002])\n"
   ]
  },
  {
   "cell_type": "code",
   "execution_count": 16,
   "metadata": {
    "ExecuteTime": {
     "end_time": "2021-02-18T22:21:58.508194Z",
     "start_time": "2021-02-18T22:21:58.505296Z"
    }
   },
   "outputs": [],
   "source": [
    "patch_thlp2 = np.asarray([1.183423361301271E-002,2.518596449027640E-003,\n",
    "                         1.166880905890017E-003, 4.608696397543562E-002])\n",
    "\n",
    "patch_tv = np.asarray([298.675871523140, 299.035625894819,\n",
    "                      298.897451151873, 296.908569379262])\n"
   ]
  },
  {
   "cell_type": "code",
   "execution_count": 18,
   "metadata": {
    "ExecuteTime": {
     "end_time": "2021-02-18T22:23:08.288643Z",
     "start_time": "2021-02-18T22:23:08.285451Z"
    }
   },
   "outputs": [
    {
     "name": "stdout",
     "output_type": "stream",
     "text": [
      "Patch thlpqp:  [2.92867538e-06 1.28125712e-06 6.93736342e-09 5.97178628e-05]\n"
     ]
    }
   ],
   "source": [
    "patch_thlpqp = (patch_qp2**0.5) * (patch_thlp2**0.5)\n",
    "print('Patch thlpqp: ', patch_thlpqp)   # Matches output in case.015\n"
   ]
  },
  {
   "cell_type": "code",
   "execution_count": 22,
   "metadata": {
    "ExecuteTime": {
     "end_time": "2021-02-18T22:25:09.417429Z",
     "start_time": "2021-02-18T22:25:09.413524Z"
    }
   },
   "outputs": [
    {
     "name": "stdout",
     "output_type": "stream",
     "text": [
      "Grid mean thlpqp:  3.302835466848168e-06\n",
      "Grid mean Tv:      298.6684493334479\n",
      "Grid mean Q:       0.01720610121079415\n"
     ]
    }
   ],
   "source": [
    "gridMean_thlpqp = np.sum(patch_thlpqp*patch_weights)/np.sum(patch_weights)\n",
    "print('Grid mean thlpqp: ',gridMean_thlpqp)   # Same as second value in case.015 as well \n",
    "\n",
    "gridMean_tv = np.sum(patch_tv*patch_weights)/np.sum(patch_weights)\n",
    "gridMean_q = np.sum(patch_q*patch_weights)/np.sum(patch_weights)\n",
    "print('Grid mean Tv:     ', gridMean_tv)\n",
    "print('Grid mean Q:      ', gridMean_q)\n"
   ]
  },
  {
   "cell_type": "code",
   "execution_count": 25,
   "metadata": {
    "ExecuteTime": {
     "end_time": "2021-02-18T22:36:03.718661Z",
     "start_time": "2021-02-18T22:36:03.714075Z"
    }
   },
   "outputs": [
    {
     "name": "stdout",
     "output_type": "stream",
     "text": [
      "TvDiff * Qdiff:    [5.96069399e-08 1.12479054e-04 3.93616971e-05 2.82815481e-03]\n",
      "Grid mean:  2.4662977087905792e-05\n",
      "Final thlpqp:  2.796581255475396e-05\n"
     ]
    }
   ],
   "source": [
    "qDiff  = patch_q - gridMean_q\n",
    "TvDiff = patch_tv - gridMean_tv\n",
    "\n",
    "qTvDiff_sqr = qDiff*TvDiff\n",
    "gridMean_qTvDiff = np.sum(qTvDiff_sqr*patch_weights)/np.sum(patch_weights)\n",
    "\n",
    "print('TvDiff * Qdiff:   ', qDiff*TvDiff)\n",
    "print('Grid mean: ', gridMean_qTvDiff)  # Matches case.015 \n",
    "\n",
    "print('Final thlpqp: ', gridMean_thlpqp+gridMean_qTvDiff) # Matches case.015 \n"
   ]
  },
  {
   "cell_type": "markdown",
   "metadata": {},
   "source": [
    "## Case.017: compute wp3"
   ]
  },
  {
   "cell_type": "code",
   "execution_count": 26,
   "metadata": {
    "ExecuteTime": {
     "end_time": "2021-02-18T23:16:48.955031Z",
     "start_time": "2021-02-18T23:16:48.950191Z"
    }
   },
   "outputs": [
    {
     "name": "stdout",
     "output_type": "stream",
     "text": [
      "Grid mean wp3:  -2.289884965795793e-07\n"
     ]
    }
   ],
   "source": [
    "# Brazil point \n",
    "patch_weights = np.asarray([0.959444020806179, 5.546301946899949E-006,\n",
    "                 3.229989980862636E-002, 8.250533083248102E-003])\n",
    "\n",
    "patch_wp3 = np.asarray([0, -4.128669855552496E-002, 0, 0])\n",
    "\n",
    "gridMean_wp3 = np.sum(patch_wp3*patch_weights)/np.sum(patch_weights)\n",
    "print('Grid mean wp3: ', gridMean_wp3) # Matches case.017 value\n"
   ]
  },
  {
   "cell_type": "code",
   "execution_count": null,
   "metadata": {},
   "outputs": [],
   "source": []
  }
 ],
 "metadata": {
  "kernelspec": {
   "display_name": "Python 3",
   "language": "python",
   "name": "python3"
  },
  "language_info": {
   "codemirror_mode": {
    "name": "ipython",
    "version": 3
   },
   "file_extension": ".py",
   "mimetype": "text/x-python",
   "name": "python",
   "nbconvert_exporter": "python",
   "pygments_lexer": "ipython3",
   "version": "3.8.5"
  }
 },
 "nbformat": 4,
 "nbformat_minor": 4
}
