{
 "cells": [
  {
   "cell_type": "code",
   "execution_count": 1,
   "metadata": {},
   "outputs": [],
   "source": [
    "import xarray as xr \n",
    "import numpy as np\n"
   ]
  },
  {
   "cell_type": "code",
   "execution_count": null,
   "metadata": {},
   "outputs": [],
   "source": []
  },
  {
   "cell_type": "code",
   "execution_count": null,
   "metadata": {},
   "outputs": [],
   "source": []
  },
  {
   "cell_type": "markdown",
   "metadata": {},
   "source": [
    "## Case.011: Compute weighted average of thlp2"
   ]
  },
  {
   "cell_type": "code",
   "execution_count": 8,
   "metadata": {},
   "outputs": [],
   "source": [
    "patch_qsfc = np.asarray([1.726832986199053E-002, 1.759567976518389E-002, \n",
    "              1.746236300667154E-002, 1.540402247484002E-002])\n",
    "\n",
    "patch_tsfc = np.asarray([295.623232350756, 295.951372969894, \n",
    "              295.840483209516, 291.344846310922])\n",
    "\n",
    "patch_thlp2 = np.asarray([1.030936768938763E-002, 2.036282320914031E-003, \n",
    "               1.004521156189157E-003, 2.249363961531671E-002])\n",
    "\n",
    "patch_theta = np.asarray([298.737233240327, 299.127926976650, \n",
    "               298.991788294539, 294.082454672829])"
   ]
  },
  {
   "cell_type": "code",
   "execution_count": 9,
   "metadata": {},
   "outputs": [],
   "source": [
    "patch_weights = np.asarray([0.959444020806179,5.546301946899949E-006,\n",
    "                 3.229989980862636E-002,8.250533083248102E-003])\n"
   ]
  },
  {
   "cell_type": "code",
   "execution_count": 20,
   "metadata": {},
   "outputs": [
    {
     "name": "stdout",
     "output_type": "stream",
     "text": [
      "298.70705310541285\n",
      "0.010109302932221356\n"
     ]
    }
   ],
   "source": [
    "gridMean_theta = np.sum(patch_theta*patch_weights)/np.sum(patch_weights)\n",
    "\n",
    "print(gridMean_theta)   # Same as first value in case.011 \n",
    "\n",
    "gridMean_thlp2 = np.sum(patch_thlp2*patch_weights)/np.sum(patch_weights)\n",
    "print(gridMean_thlp2)   # Same as first value in case.011 as well \n"
   ]
  },
  {
   "cell_type": "code",
   "execution_count": 24,
   "metadata": {},
   "outputs": [
    {
     "name": "stdout",
     "output_type": "stream",
     "text": [
      "[9.10840543e-04 1.77134815e-01 8.10741279e-02 2.13869107e+01]\n"
     ]
    }
   ],
   "source": [
    "thetaDiff2 = (patch_theta - gridMean_theta)**2\n",
    "print(thetaDiff2)"
   ]
  },
  {
   "cell_type": "code",
   "execution_count": 25,
   "metadata": {},
   "outputs": [
    {
     "name": "stdout",
     "output_type": "stream",
     "text": [
      "0.19005628606852865\n"
     ]
    }
   ],
   "source": [
    "final_thlp2 = gridMean_thlp2 + (np.sum(thetaDiff2*patch_weights)/np.sum(patch_weights))\n",
    "print(final_thlp2)  # Same as first value in case.011 - so everything's working as expected right now"
   ]
  },
  {
   "cell_type": "code",
   "execution_count": null,
   "metadata": {},
   "outputs": [],
   "source": []
  }
 ],
 "metadata": {
  "kernelspec": {
   "display_name": "Python 3",
   "language": "python",
   "name": "python3"
  },
  "language_info": {
   "codemirror_mode": {
    "name": "ipython",
    "version": 3
   },
   "file_extension": ".py",
   "mimetype": "text/x-python",
   "name": "python",
   "nbconvert_exporter": "python",
   "pygments_lexer": "ipython3",
   "version": "3.9.1"
  }
 },
 "nbformat": 4,
 "nbformat_minor": 4
}
